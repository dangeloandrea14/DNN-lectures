{
 "cells": [
  {
   "cell_type": "code",
   "execution_count": 186,
   "metadata": {},
   "outputs": [],
   "source": [
    "import pandas as pd \n",
    "import numpy as np \n",
    "import os\n",
    "import torch\n",
    "from torch import nn\n",
    "import torch.optim as optim\n",
    "from torch.utils.data import Dataset\n",
    "from torch.utils.data import DataLoader\n",
    "import torch.nn.init as init\n",
    "from torch.utils.data import Subset\n",
    "import matplotlib.pyplot as plt\n",
    "import seaborn as sns\n",
    "from sklearn.utils.multiclass import unique_labels\n",
    "from sklearn.metrics import confusion_matrix\n",
    "from sklearn.model_selection import StratifiedShuffleSplit\n",
    "from torchvision.io import read_image\n",
    "import warnings\n",
    "from torchvision import transforms, models"
   ]
  },
  {
   "cell_type": "code",
   "execution_count": 187,
   "metadata": {},
   "outputs": [],
   "source": [
    "device = torch.device(\"cuda\" if torch.cuda.is_available() else \"cpu\")"
   ]
  },
  {
   "cell_type": "markdown",
   "metadata": {},
   "source": [
    "# Deep Neural Networks Laboratory"
   ]
  },
  {
   "cell_type": "markdown",
   "metadata": {},
   "source": [
    "## Dataset"
   ]
  },
  {
   "cell_type": "code",
   "execution_count": 188,
   "metadata": {},
   "outputs": [],
   "source": [
    "class CustomImageDataset(Dataset):\n",
    "    \n",
    "    def __init__(self, annotations_file, img_dir, transform=None, target_transform=None):\n",
    "        self.img_labels = pd.read_csv(annotations_file)\n",
    "        self.img_dir = img_dir\n",
    "        self.transform = transform\n",
    "        self.target_transform = target_transform\n",
    "        self.to_pil = transforms.ToPILImage()\n",
    "\n",
    "    def __len__(self):\n",
    "        return len(self.img_labels)\n",
    "\n",
    "    def __getitem__(self, idx):\n",
    "\n",
    "\n",
    "        label = torch.tensor(self.img_labels.iloc[idx, 1:].astype(float).values, dtype=torch.float32)\n",
    "\n",
    "        img_name = os.path.join(self.img_dir, self.img_labels.iloc[idx, 0])\n",
    "                \n",
    "\n",
    "        image = read_image(img_name)\n",
    "        \n",
    "\n",
    "        if self.transform:\n",
    "            image = self.transform(self.to_pil(image))\n",
    "\n",
    "        if self.target_transform:\n",
    "            label = self.target_transform(label)\n",
    "\n",
    "        return image, label\n",
    "    "
   ]
  },
  {
   "cell_type": "code",
   "execution_count": 189,
   "metadata": {},
   "outputs": [],
   "source": [
    "folder = os.path.join('data', 'screenshots')"
   ]
  },
  {
   "cell_type": "code",
   "execution_count": 190,
   "metadata": {},
   "outputs": [],
   "source": [
    "ScreenDataset = CustomImageDataset(annotations_file=os.path.join(folder, 'image_labels.csv'), img_dir=os.path.join(folder))"
   ]
  },
  {
   "cell_type": "code",
   "execution_count": 191,
   "metadata": {},
   "outputs": [],
   "source": [
    "train_size = 0.8 \n",
    "\n",
    "train_dataset, test_dataset = torch.utils.data.random_split(ScreenDataset, [train_size, 1-train_size])\n",
    "\n",
    "train_dataloader = DataLoader(train_dataset, batch_size=32, shuffle=True)\n",
    "test_dataloader = DataLoader(test_dataset, batch_size=32, shuffle=False)"
   ]
  },
  {
   "cell_type": "code",
   "execution_count": 192,
   "metadata": {},
   "outputs": [
    {
     "data": {
      "text/plain": [
       "[tensor([[[[ 48,  60, 112,  ..., 145, 136, 136],\n",
       "           [102, 128, 150,  ..., 129, 118, 116],\n",
       "           [169, 174, 153,  ..., 107,  97,  95],\n",
       "           ...,\n",
       "           [215, 212, 214,  ..., 237, 245, 244],\n",
       "           [210, 210, 211,  ..., 255, 255, 255],\n",
       "           [216, 215, 214,  ..., 255, 255, 255]],\n",
       " \n",
       "          [[ 32,  45,  95,  ..., 179, 171, 171],\n",
       "           [ 95, 121, 140,  ..., 170, 159, 160],\n",
       "           [178, 182, 156,  ..., 163, 153, 153],\n",
       "           ...,\n",
       "           [116, 113, 115,  ..., 181, 189, 190],\n",
       "           [111, 111, 112,  ..., 208, 207, 207],\n",
       "           [117, 116, 115,  ..., 205, 207, 207]],\n",
       " \n",
       "          [[  6,  12,  49,  ..., 181, 175, 175],\n",
       "           [ 49,  69,  81,  ..., 172, 163, 163],\n",
       "           [ 95,  97,  69,  ..., 162, 154, 154],\n",
       "           ...,\n",
       "           [ 85,  82,  83,  ..., 156, 164, 164],\n",
       "           [ 80,  80,  80,  ..., 184, 183, 183],\n",
       "           [ 86,  85,  83,  ..., 181, 183, 183]]],\n",
       " \n",
       " \n",
       "         [[[ 66,  75,  84,  ...,  88,  84,  84],\n",
       "           [ 73,  67,  76,  ...,  94,  91,  89],\n",
       "           [ 76,  66,  71,  ..., 102, 105, 102],\n",
       "           ...,\n",
       "           [ 34,  28,  36,  ..., 108, 116, 116],\n",
       "           [ 32,  28,  29,  ..., 139, 131, 131],\n",
       "           [ 32,  28,  29,  ..., 142, 134, 134]],\n",
       " \n",
       "          [[ 59,  69,  82,  ...,  82,  76,  77],\n",
       "           [ 78,  72,  80,  ...,  83,  81,  81],\n",
       "           [108,  94,  88,  ...,  78,  89,  90],\n",
       "           ...,\n",
       "           [ 44,  38,  46,  ..., 130, 137, 138],\n",
       "           [ 43,  39,  40,  ..., 154, 146, 146],\n",
       "           [ 43,  39,  40,  ..., 154, 146, 146]],\n",
       " \n",
       "          [[ 93, 105, 121,  ..., 144, 149, 155],\n",
       "           [108, 104, 115,  ..., 143, 150, 156],\n",
       "           [129, 116, 116,  ..., 136, 152, 156],\n",
       "           ...,\n",
       "           [ 93,  87,  95,  ..., 171, 180, 179],\n",
       "           [ 89,  85,  86,  ..., 183, 177, 175],\n",
       "           [ 88,  84,  86,  ..., 178, 170, 170]]],\n",
       " \n",
       " \n",
       "         [[[ 59,  61,  64,  ...,  60,  59,  59],\n",
       "           [ 62,  62,  61,  ...,  60,  59,  59],\n",
       "           [ 58,  61,  64,  ...,  60,  58,  58],\n",
       "           ...,\n",
       "           [ 81,  82,  84,  ...,  84,  82,  82],\n",
       "           [ 82,  81,  83,  ...,  79,  82,  82],\n",
       "           [ 82,  81,  83,  ...,  79,  82,  82]],\n",
       " \n",
       "          [[ 59,  61,  64,  ...,  62,  61,  61],\n",
       "           [ 62,  62,  61,  ...,  62,  61,  61],\n",
       "           [ 59,  63,  66,  ...,  62,  60,  60],\n",
       "           ...,\n",
       "           [ 84,  85,  87,  ...,  86,  84,  84],\n",
       "           [ 85,  84,  86,  ...,  81,  84,  84],\n",
       "           [ 85,  84,  86,  ...,  81,  84,  84]],\n",
       " \n",
       "          [[ 59,  61,  62,  ...,  61,  60,  60],\n",
       "           [ 62,  62,  61,  ...,  61,  60,  60],\n",
       "           [ 61,  62,  65,  ...,  61,  59,  59],\n",
       "           ...,\n",
       "           [ 75,  76,  78,  ...,  73,  71,  71],\n",
       "           [ 76,  75,  77,  ...,  68,  71,  71],\n",
       "           [ 76,  75,  77,  ...,  68,  71,  71]]],\n",
       " \n",
       " \n",
       "         ...,\n",
       " \n",
       " \n",
       "         [[[ 82,  80,  86,  ...,  56,  60,  60],\n",
       "           [ 92,  92,  97,  ...,  69,  66,  66],\n",
       "           [ 55,  59,  58,  ...,  43,  48,  48],\n",
       "           ...,\n",
       "           [127, 132, 121,  ..., 127, 127, 127],\n",
       "           [128, 127, 126,  ..., 127, 127, 127],\n",
       "           [128, 127, 127,  ..., 127, 127, 127]],\n",
       " \n",
       "          [[110, 108, 114,  ...,  82,  85,  84],\n",
       "           [118, 118, 123,  ...,  93,  90,  89],\n",
       "           [ 76,  80,  79,  ...,  65,  67,  67],\n",
       "           ...,\n",
       "           [126, 133, 123,  ..., 128, 128, 128],\n",
       "           [128, 128, 129,  ..., 128, 128, 128],\n",
       "           [128, 128, 128,  ..., 128, 128, 128]],\n",
       " \n",
       "          [[131, 129, 138,  ..., 117, 126, 128],\n",
       "           [133, 133, 140,  ..., 117, 118, 120],\n",
       "           [ 79,  85,  84,  ...,  63,  71,  73],\n",
       "           ...,\n",
       "           [  0,   5,   0,  ...,   0,   0,   0],\n",
       "           [  0,   0,   0,  ...,   0,   0,   0],\n",
       "           [  0,   0,   0,  ...,   0,   0,   0]]],\n",
       " \n",
       " \n",
       "         [[[191, 161, 120,  ..., 225, 213, 213],\n",
       "           [200, 178, 140,  ..., 217, 207, 207],\n",
       "           [218, 200, 161,  ..., 202, 204, 204],\n",
       "           ...,\n",
       "           [194, 194, 195,  ..., 195, 200, 200],\n",
       "           [192, 192, 190,  ..., 195, 201, 201],\n",
       "           [192, 192, 190,  ..., 195, 201, 202]],\n",
       " \n",
       "          [[229, 203, 171,  ..., 225, 213, 213],\n",
       "           [235, 216, 186,  ..., 218, 208, 208],\n",
       "           [244, 229, 197,  ..., 210, 209, 209],\n",
       "           ...,\n",
       "           [213, 213, 214,  ..., 208, 209, 209],\n",
       "           [211, 211, 212,  ..., 208, 210, 210],\n",
       "           [211, 211, 212,  ..., 208, 210, 211]],\n",
       " \n",
       "          [[248, 225, 200,  ..., 225, 213, 213],\n",
       "           [254, 237, 212,  ..., 220, 210, 210],\n",
       "           [255, 245, 219,  ..., 213, 213, 213],\n",
       "           ...,\n",
       "           [228, 228, 228,  ..., 214, 214, 214],\n",
       "           [226, 226, 226,  ..., 214, 215, 215],\n",
       "           [226, 226, 226,  ..., 214, 215, 216]]],\n",
       " \n",
       " \n",
       "         [[[136, 139, 143,  ..., 189, 203, 205],\n",
       "           [139, 142, 146,  ..., 193, 210, 210],\n",
       "           [144, 147, 151,  ..., 199, 200, 200],\n",
       "           ...,\n",
       "           [ 75,  87,  88,  ..., 115, 116, 117],\n",
       "           [ 81,  85,  88,  ..., 125, 125, 127],\n",
       "           [ 91,  95,  98,  ..., 124, 131, 134]],\n",
       " \n",
       "          [[ 64,  67,  71,  ..., 128, 141, 140],\n",
       "           [ 67,  70,  74,  ..., 135, 148, 148],\n",
       "           [ 72,  75,  79,  ..., 142, 140, 140],\n",
       "           ...,\n",
       "           [ 44,  53,  49,  ...,  90,  88,  88],\n",
       "           [ 58,  59,  60,  ..., 103, 101, 100],\n",
       "           [ 73,  74,  75,  ..., 105, 107, 108]],\n",
       " \n",
       "          [[128, 131, 134,  ..., 169, 182, 180],\n",
       "           [131, 134, 137,  ..., 175, 187, 185],\n",
       "           [136, 139, 142,  ..., 177, 174, 174],\n",
       "           ...,\n",
       "           [161, 173, 174,  ..., 207, 207, 207],\n",
       "           [166, 168, 173,  ..., 214, 213, 213],\n",
       "           [175, 179, 183,  ..., 212, 217, 218]]]], dtype=torch.uint8),\n",
       " tensor([[ 3.],\n",
       "         [ 7.],\n",
       "         [18.],\n",
       "         [11.],\n",
       "         [ 0.],\n",
       "         [15.],\n",
       "         [ 2.],\n",
       "         [ 9.],\n",
       "         [13.],\n",
       "         [ 0.],\n",
       "         [15.],\n",
       "         [ 0.],\n",
       "         [ 3.],\n",
       "         [ 3.],\n",
       "         [15.],\n",
       "         [ 9.],\n",
       "         [13.],\n",
       "         [15.],\n",
       "         [ 0.],\n",
       "         [13.],\n",
       "         [12.],\n",
       "         [ 2.],\n",
       "         [16.],\n",
       "         [11.],\n",
       "         [ 9.],\n",
       "         [ 9.],\n",
       "         [17.],\n",
       "         [10.],\n",
       "         [ 8.],\n",
       "         [15.],\n",
       "         [17.],\n",
       "         [14.]])]"
      ]
     },
     "execution_count": 192,
     "metadata": {},
     "output_type": "execute_result"
    }
   ],
   "source": [
    "next(iter(train_dataloader))"
   ]
  },
  {
   "cell_type": "code",
   "execution_count": 193,
   "metadata": {},
   "outputs": [
    {
     "data": {
      "image/jpeg": "[encoded data removed]",
      "image/png": "[encoded data removed]",
      "text/plain": [
       "<PIL.Image.Image image mode=RGB size=90x90>"
      ]
     },
     "execution_count": 193,
     "metadata": {},
     "output_type": "execute_result"
    }
   ],
   "source": [
    "topil = transforms.ToPILImage()\n",
    "topil(next(iter(train_dataloader))[0][0])"
   ]
  },
  {
   "cell_type": "code",
   "execution_count": 194,
   "metadata": {},
   "outputs": [],
   "source": [
    "folder = os.path.join('data','screenshots')\n",
    "labels_map = pd.read_csv(os.path.join(folder,'genre_labels.csv'))\n",
    "labels_map = labels_map.to_dict()['genre']"
   ]
  },
  {
   "cell_type": "code",
   "execution_count": 195,
   "metadata": {},
   "outputs": [],
   "source": [
    "class Net(nn.Module):\n",
    "    def __init__(self, labels_map):\n",
    "        super(Net, self).__init__()\n",
    "        self.apply(self._initialize_weights)\n",
    "        num_classes = len(labels_map)\n",
    "        self.conv1 = nn.Conv2d(in_channels=3, out_channels=6, kernel_size=(5,5))\n",
    "        self.pool1 = nn.MaxPool2d(kernel_size=(2,2), stride=2)\n",
    "        self.conv2 = nn.Conv2d(in_channels=6, out_channels=16, kernel_size=(5,5))\n",
    "        self.pool2 = nn.MaxPool2d(kernel_size=(2,2), stride=2)\n",
    "        self.fc1 = nn.Linear(16 * 19 * 19, 200)  \n",
    "        self.fc2 = nn.Linear(200, 300)\n",
    "        self.fc3 = nn.Linear(300, 100)\n",
    "        self.fc4 = nn.Linear(100, num_classes)\n",
    "        self.relu = nn.ReLU()\n",
    "        self.flatten = nn.Flatten()\n",
    "\n",
    "    def forward(self, x):\n",
    "        x = self.pool1(self.relu(self.conv1(x.float())))\n",
    "        x = self.pool2(self.relu(self.conv2(x)))\n",
    "        x = self.flatten(x)\n",
    "        x = self.relu(self.fc1(x))\n",
    "        x = self.relu(self.fc2(x))\n",
    "        x = self.relu(self.fc3(x))\n",
    "        x = self.fc4(x)\n",
    "\n",
    "        return x\n",
    "    \n",
    "    def _initialize_weights(self, layer):\n",
    "        if isinstance(layer, nn.Conv2d) or isinstance(layer, nn.Linear):\n",
    "            init.xavier_uniform_(layer.weight)\n",
    "            if layer.bias is not None:\n",
    "                init.zeros_(layer.bias)\n",
    "\n",
    "model = Net(labels_map=labels_map)"
   ]
  },
  {
   "cell_type": "code",
   "execution_count": 196,
   "metadata": {},
   "outputs": [
    {
     "data": {
      "text/plain": [
       "Net(\n",
       "  (conv1): Conv2d(3, 6, kernel_size=(5, 5), stride=(1, 1))\n",
       "  (pool1): MaxPool2d(kernel_size=(2, 2), stride=2, padding=0, dilation=1, ceil_mode=False)\n",
       "  (conv2): Conv2d(6, 16, kernel_size=(5, 5), stride=(1, 1))\n",
       "  (pool2): MaxPool2d(kernel_size=(2, 2), stride=2, padding=0, dilation=1, ceil_mode=False)\n",
       "  (fc1): Linear(in_features=5776, out_features=200, bias=True)\n",
       "  (fc2): Linear(in_features=200, out_features=300, bias=True)\n",
       "  (fc3): Linear(in_features=300, out_features=100, bias=True)\n",
       "  (fc4): Linear(in_features=100, out_features=21, bias=True)\n",
       "  (relu): ReLU()\n",
       "  (flatten): Flatten(start_dim=1, end_dim=-1)\n",
       ")"
      ]
     },
     "execution_count": 196,
     "metadata": {},
     "output_type": "execute_result"
    }
   ],
   "source": [
    "model.to(device)"
   ]
  },
  {
   "cell_type": "code",
   "execution_count": 197,
   "metadata": {},
   "outputs": [],
   "source": [
    "def train_loop(dataloader, model, loss_fn, optimizer):\n",
    "  \n",
    "  size = len(dataloader.dataset)\n",
    "  for batch, (X, y) in enumerate(dataloader):\n",
    "    X, y = X.to(device), y.to(device).long()\n",
    "\n",
    "    optimizer.zero_grad()\n",
    "\n",
    "    pred = model(X)\n",
    "\n",
    "\n",
    "\n",
    "    loss = loss_fn(pred, y.squeeze(1))\n",
    "\n",
    "    loss.backward()\n",
    "    \n",
    "    optimizer.step()\n",
    "\n",
    "def test_loop(dataloader, model, loss_fn):\n",
    "  size = len(dataloader.dataset)\n",
    "  num_batches = len(dataloader)\n",
    "  test_loss, correct = 0, 0\n",
    "\n",
    "  with torch.no_grad():\n",
    "    for X, y in dataloader:\n",
    "      X, y = X.to(device), y.to(device)\n",
    "      pred = model(X)\n",
    "\n",
    "      test_loss += loss_fn(pred, y).item()\n",
    "      correct += (pred.argmax(1) == y).type(torch.float).sum().item()\n",
    "\n",
    "  test_loss /= num_batches\n",
    "  correct /= size\n",
    "  print(f\"Test Error: \\n Accuracy: {(100*correct):>0.1f}%, Avg loss: {test_loss:>8f} \\n\")\n",
    "\n",
    "  return 100*correct"
   ]
  },
  {
   "cell_type": "code",
   "execution_count": 198,
   "metadata": {},
   "outputs": [],
   "source": [
    "learning_rate = 1e-4\n",
    "batch_size = 16\n",
    "epochs = 20"
   ]
  },
  {
   "cell_type": "code",
   "execution_count": 199,
   "metadata": {},
   "outputs": [
    {
     "name": "stdout",
     "output_type": "stream",
     "text": [
      "Epoch 1\n",
      "-------------------------------\n"
     ]
    },
    {
     "ename": "KeyboardInterrupt",
     "evalue": "",
     "output_type": "error",
     "traceback": [
      "\u001b[1;31m---------------------------------------------------------------------------\u001b[0m",
      "\u001b[1;31mKeyboardInterrupt\u001b[0m                         Traceback (most recent call last)",
      "Cell \u001b[1;32mIn[199], line 7\u001b[0m\n\u001b[0;32m      5\u001b[0m \u001b[38;5;28;01mfor\u001b[39;00m t \u001b[38;5;129;01min\u001b[39;00m \u001b[38;5;28mrange\u001b[39m(epochs):\n\u001b[0;32m      6\u001b[0m     \u001b[38;5;28mprint\u001b[39m(\u001b[38;5;124mf\u001b[39m\u001b[38;5;124m\"\u001b[39m\u001b[38;5;124mEpoch \u001b[39m\u001b[38;5;132;01m{\u001b[39;00mt\u001b[38;5;241m+\u001b[39m\u001b[38;5;241m1\u001b[39m\u001b[38;5;132;01m}\u001b[39;00m\u001b[38;5;130;01m\\n\u001b[39;00m\u001b[38;5;124m-------------------------------\u001b[39m\u001b[38;5;124m\"\u001b[39m)\n\u001b[1;32m----> 7\u001b[0m     \u001b[43mtrain_loop\u001b[49m\u001b[43m(\u001b[49m\u001b[43mtrain_dataloader\u001b[49m\u001b[43m,\u001b[49m\u001b[43m \u001b[49m\u001b[43mmodel\u001b[49m\u001b[43m,\u001b[49m\u001b[43m \u001b[49m\u001b[43mloss_fn\u001b[49m\u001b[43m,\u001b[49m\u001b[43m \u001b[49m\u001b[43moptimizer\u001b[49m\u001b[43m)\u001b[49m\n\u001b[0;32m      8\u001b[0m     accuracies\u001b[38;5;241m.\u001b[39mappend(test_loop(test_dataloader, model, loss_fn))\n\u001b[0;32m      9\u001b[0m \u001b[38;5;28mprint\u001b[39m(\u001b[38;5;124m\"\u001b[39m\u001b[38;5;124mDone!\u001b[39m\u001b[38;5;124m\"\u001b[39m)\n",
      "Cell \u001b[1;32mIn[197], line 4\u001b[0m, in \u001b[0;36mtrain_loop\u001b[1;34m(dataloader, model, loss_fn, optimizer)\u001b[0m\n\u001b[0;32m      1\u001b[0m \u001b[38;5;28;01mdef\u001b[39;00m \u001b[38;5;21mtrain_loop\u001b[39m(dataloader, model, loss_fn, optimizer):\n\u001b[0;32m      3\u001b[0m   size \u001b[38;5;241m=\u001b[39m \u001b[38;5;28mlen\u001b[39m(dataloader\u001b[38;5;241m.\u001b[39mdataset)\n\u001b[1;32m----> 4\u001b[0m   \u001b[38;5;28;01mfor\u001b[39;00m batch, (X, y) \u001b[38;5;129;01min\u001b[39;00m \u001b[38;5;28menumerate\u001b[39m(dataloader):\n\u001b[0;32m      5\u001b[0m     X, y \u001b[38;5;241m=\u001b[39m X\u001b[38;5;241m.\u001b[39mto(device), y\u001b[38;5;241m.\u001b[39mto(device)\u001b[38;5;241m.\u001b[39mlong()\n\u001b[0;32m      7\u001b[0m     optimizer\u001b[38;5;241m.\u001b[39mzero_grad()\n",
      "File \u001b[1;32mc:\\Users\\dange\\anaconda3\\envs\\dnn\\lib\\site-packages\\torch\\utils\\data\\dataloader.py:631\u001b[0m, in \u001b[0;36m_BaseDataLoaderIter.__next__\u001b[1;34m(self)\u001b[0m\n\u001b[0;32m    628\u001b[0m \u001b[38;5;28;01mif\u001b[39;00m \u001b[38;5;28mself\u001b[39m\u001b[38;5;241m.\u001b[39m_sampler_iter \u001b[38;5;129;01mis\u001b[39;00m \u001b[38;5;28;01mNone\u001b[39;00m:\n\u001b[0;32m    629\u001b[0m     \u001b[38;5;66;03m# TODO(https://github.com/pytorch/pytorch/issues/76750)\u001b[39;00m\n\u001b[0;32m    630\u001b[0m     \u001b[38;5;28mself\u001b[39m\u001b[38;5;241m.\u001b[39m_reset()  \u001b[38;5;66;03m# type: ignore[call-arg]\u001b[39;00m\n\u001b[1;32m--> 631\u001b[0m data \u001b[38;5;241m=\u001b[39m \u001b[38;5;28;43mself\u001b[39;49m\u001b[38;5;241;43m.\u001b[39;49m\u001b[43m_next_data\u001b[49m\u001b[43m(\u001b[49m\u001b[43m)\u001b[49m\n\u001b[0;32m    632\u001b[0m \u001b[38;5;28mself\u001b[39m\u001b[38;5;241m.\u001b[39m_num_yielded \u001b[38;5;241m+\u001b[39m\u001b[38;5;241m=\u001b[39m \u001b[38;5;241m1\u001b[39m\n\u001b[0;32m    633\u001b[0m \u001b[38;5;28;01mif\u001b[39;00m \u001b[38;5;28mself\u001b[39m\u001b[38;5;241m.\u001b[39m_dataset_kind \u001b[38;5;241m==\u001b[39m _DatasetKind\u001b[38;5;241m.\u001b[39mIterable \u001b[38;5;129;01mand\u001b[39;00m \\\n\u001b[0;32m    634\u001b[0m         \u001b[38;5;28mself\u001b[39m\u001b[38;5;241m.\u001b[39m_IterableDataset_len_called \u001b[38;5;129;01mis\u001b[39;00m \u001b[38;5;129;01mnot\u001b[39;00m \u001b[38;5;28;01mNone\u001b[39;00m \u001b[38;5;129;01mand\u001b[39;00m \\\n\u001b[0;32m    635\u001b[0m         \u001b[38;5;28mself\u001b[39m\u001b[38;5;241m.\u001b[39m_num_yielded \u001b[38;5;241m>\u001b[39m \u001b[38;5;28mself\u001b[39m\u001b[38;5;241m.\u001b[39m_IterableDataset_len_called:\n",
      "File \u001b[1;32mc:\\Users\\dange\\anaconda3\\envs\\dnn\\lib\\site-packages\\torch\\utils\\data\\dataloader.py:675\u001b[0m, in \u001b[0;36m_SingleProcessDataLoaderIter._next_data\u001b[1;34m(self)\u001b[0m\n\u001b[0;32m    673\u001b[0m \u001b[38;5;28;01mdef\u001b[39;00m \u001b[38;5;21m_next_data\u001b[39m(\u001b[38;5;28mself\u001b[39m):\n\u001b[0;32m    674\u001b[0m     index \u001b[38;5;241m=\u001b[39m \u001b[38;5;28mself\u001b[39m\u001b[38;5;241m.\u001b[39m_next_index()  \u001b[38;5;66;03m# may raise StopIteration\u001b[39;00m\n\u001b[1;32m--> 675\u001b[0m     data \u001b[38;5;241m=\u001b[39m \u001b[38;5;28;43mself\u001b[39;49m\u001b[38;5;241;43m.\u001b[39;49m\u001b[43m_dataset_fetcher\u001b[49m\u001b[38;5;241;43m.\u001b[39;49m\u001b[43mfetch\u001b[49m\u001b[43m(\u001b[49m\u001b[43mindex\u001b[49m\u001b[43m)\u001b[49m  \u001b[38;5;66;03m# may raise StopIteration\u001b[39;00m\n\u001b[0;32m    676\u001b[0m     \u001b[38;5;28;01mif\u001b[39;00m \u001b[38;5;28mself\u001b[39m\u001b[38;5;241m.\u001b[39m_pin_memory:\n\u001b[0;32m    677\u001b[0m         data \u001b[38;5;241m=\u001b[39m _utils\u001b[38;5;241m.\u001b[39mpin_memory\u001b[38;5;241m.\u001b[39mpin_memory(data, \u001b[38;5;28mself\u001b[39m\u001b[38;5;241m.\u001b[39m_pin_memory_device)\n",
      "File \u001b[1;32mc:\\Users\\dange\\anaconda3\\envs\\dnn\\lib\\site-packages\\torch\\utils\\data\\_utils\\fetch.py:49\u001b[0m, in \u001b[0;36m_MapDatasetFetcher.fetch\u001b[1;34m(self, possibly_batched_index)\u001b[0m\n\u001b[0;32m     47\u001b[0m \u001b[38;5;28;01mif\u001b[39;00m \u001b[38;5;28mself\u001b[39m\u001b[38;5;241m.\u001b[39mauto_collation:\n\u001b[0;32m     48\u001b[0m     \u001b[38;5;28;01mif\u001b[39;00m \u001b[38;5;28mhasattr\u001b[39m(\u001b[38;5;28mself\u001b[39m\u001b[38;5;241m.\u001b[39mdataset, \u001b[38;5;124m\"\u001b[39m\u001b[38;5;124m__getitems__\u001b[39m\u001b[38;5;124m\"\u001b[39m) \u001b[38;5;129;01mand\u001b[39;00m \u001b[38;5;28mself\u001b[39m\u001b[38;5;241m.\u001b[39mdataset\u001b[38;5;241m.\u001b[39m__getitems__:\n\u001b[1;32m---> 49\u001b[0m         data \u001b[38;5;241m=\u001b[39m \u001b[38;5;28;43mself\u001b[39;49m\u001b[38;5;241;43m.\u001b[39;49m\u001b[43mdataset\u001b[49m\u001b[38;5;241;43m.\u001b[39;49m\u001b[43m__getitems__\u001b[49m\u001b[43m(\u001b[49m\u001b[43mpossibly_batched_index\u001b[49m\u001b[43m)\u001b[49m\n\u001b[0;32m     50\u001b[0m     \u001b[38;5;28;01melse\u001b[39;00m:\n\u001b[0;32m     51\u001b[0m         data \u001b[38;5;241m=\u001b[39m [\u001b[38;5;28mself\u001b[39m\u001b[38;5;241m.\u001b[39mdataset[idx] \u001b[38;5;28;01mfor\u001b[39;00m idx \u001b[38;5;129;01min\u001b[39;00m possibly_batched_index]\n",
      "File \u001b[1;32mc:\\Users\\dange\\anaconda3\\envs\\dnn\\lib\\site-packages\\torch\\utils\\data\\dataset.py:399\u001b[0m, in \u001b[0;36mSubset.__getitems__\u001b[1;34m(self, indices)\u001b[0m\n\u001b[0;32m    397\u001b[0m     \u001b[38;5;28;01mreturn\u001b[39;00m \u001b[38;5;28mself\u001b[39m\u001b[38;5;241m.\u001b[39mdataset\u001b[38;5;241m.\u001b[39m__getitems__([\u001b[38;5;28mself\u001b[39m\u001b[38;5;241m.\u001b[39mindices[idx] \u001b[38;5;28;01mfor\u001b[39;00m idx \u001b[38;5;129;01min\u001b[39;00m indices])  \u001b[38;5;66;03m# type: ignore[attr-defined]\u001b[39;00m\n\u001b[0;32m    398\u001b[0m \u001b[38;5;28;01melse\u001b[39;00m:\n\u001b[1;32m--> 399\u001b[0m     \u001b[38;5;28;01mreturn\u001b[39;00m [\u001b[38;5;28mself\u001b[39m\u001b[38;5;241m.\u001b[39mdataset[\u001b[38;5;28mself\u001b[39m\u001b[38;5;241m.\u001b[39mindices[idx]] \u001b[38;5;28;01mfor\u001b[39;00m idx \u001b[38;5;129;01min\u001b[39;00m indices]\n",
      "File \u001b[1;32mc:\\Users\\dange\\anaconda3\\envs\\dnn\\lib\\site-packages\\torch\\utils\\data\\dataset.py:399\u001b[0m, in \u001b[0;36m<listcomp>\u001b[1;34m(.0)\u001b[0m\n\u001b[0;32m    397\u001b[0m     \u001b[38;5;28;01mreturn\u001b[39;00m \u001b[38;5;28mself\u001b[39m\u001b[38;5;241m.\u001b[39mdataset\u001b[38;5;241m.\u001b[39m__getitems__([\u001b[38;5;28mself\u001b[39m\u001b[38;5;241m.\u001b[39mindices[idx] \u001b[38;5;28;01mfor\u001b[39;00m idx \u001b[38;5;129;01min\u001b[39;00m indices])  \u001b[38;5;66;03m# type: ignore[attr-defined]\u001b[39;00m\n\u001b[0;32m    398\u001b[0m \u001b[38;5;28;01melse\u001b[39;00m:\n\u001b[1;32m--> 399\u001b[0m     \u001b[38;5;28;01mreturn\u001b[39;00m [\u001b[38;5;28;43mself\u001b[39;49m\u001b[38;5;241;43m.\u001b[39;49m\u001b[43mdataset\u001b[49m\u001b[43m[\u001b[49m\u001b[38;5;28;43mself\u001b[39;49m\u001b[38;5;241;43m.\u001b[39;49m\u001b[43mindices\u001b[49m\u001b[43m[\u001b[49m\u001b[43midx\u001b[49m\u001b[43m]\u001b[49m\u001b[43m]\u001b[49m \u001b[38;5;28;01mfor\u001b[39;00m idx \u001b[38;5;129;01min\u001b[39;00m indices]\n",
      "Cell \u001b[1;32mIn[188], line 21\u001b[0m, in \u001b[0;36mCustomImageDataset.__getitem__\u001b[1;34m(self, idx)\u001b[0m\n\u001b[0;32m     16\u001b[0m label \u001b[38;5;241m=\u001b[39m torch\u001b[38;5;241m.\u001b[39mtensor(\u001b[38;5;28mself\u001b[39m\u001b[38;5;241m.\u001b[39mimg_labels\u001b[38;5;241m.\u001b[39miloc[idx, \u001b[38;5;241m1\u001b[39m:]\u001b[38;5;241m.\u001b[39mastype(\u001b[38;5;28mfloat\u001b[39m)\u001b[38;5;241m.\u001b[39mvalues, dtype\u001b[38;5;241m=\u001b[39mtorch\u001b[38;5;241m.\u001b[39mfloat32)\n\u001b[0;32m     18\u001b[0m img_name \u001b[38;5;241m=\u001b[39m os\u001b[38;5;241m.\u001b[39mpath\u001b[38;5;241m.\u001b[39mjoin(\u001b[38;5;28mself\u001b[39m\u001b[38;5;241m.\u001b[39mimg_dir, \u001b[38;5;28mself\u001b[39m\u001b[38;5;241m.\u001b[39mimg_labels\u001b[38;5;241m.\u001b[39miloc[idx, \u001b[38;5;241m0\u001b[39m])\n\u001b[1;32m---> 21\u001b[0m image \u001b[38;5;241m=\u001b[39m \u001b[43mread_image\u001b[49m\u001b[43m(\u001b[49m\u001b[43mimg_name\u001b[49m\u001b[43m)\u001b[49m\n\u001b[0;32m     24\u001b[0m \u001b[38;5;28;01mif\u001b[39;00m \u001b[38;5;28mself\u001b[39m\u001b[38;5;241m.\u001b[39mtransform:\n\u001b[0;32m     25\u001b[0m     image \u001b[38;5;241m=\u001b[39m \u001b[38;5;28mself\u001b[39m\u001b[38;5;241m.\u001b[39mtransform(\u001b[38;5;28mself\u001b[39m\u001b[38;5;241m.\u001b[39mto_pil(image))\n",
      "File \u001b[1;32mc:\\Users\\dange\\anaconda3\\envs\\dnn\\lib\\site-packages\\torchvision\\io\\image.py:258\u001b[0m, in \u001b[0;36mread_image\u001b[1;34m(path, mode)\u001b[0m\n\u001b[0;32m    256\u001b[0m \u001b[38;5;28;01mif\u001b[39;00m \u001b[38;5;129;01mnot\u001b[39;00m torch\u001b[38;5;241m.\u001b[39mjit\u001b[38;5;241m.\u001b[39mis_scripting() \u001b[38;5;129;01mand\u001b[39;00m \u001b[38;5;129;01mnot\u001b[39;00m torch\u001b[38;5;241m.\u001b[39mjit\u001b[38;5;241m.\u001b[39mis_tracing():\n\u001b[0;32m    257\u001b[0m     _log_api_usage_once(read_image)\n\u001b[1;32m--> 258\u001b[0m data \u001b[38;5;241m=\u001b[39m \u001b[43mread_file\u001b[49m\u001b[43m(\u001b[49m\u001b[43mpath\u001b[49m\u001b[43m)\u001b[49m\n\u001b[0;32m    259\u001b[0m \u001b[38;5;28;01mreturn\u001b[39;00m decode_image(data, mode)\n",
      "File \u001b[1;32mc:\\Users\\dange\\anaconda3\\envs\\dnn\\lib\\site-packages\\torchvision\\io\\image.py:52\u001b[0m, in \u001b[0;36mread_file\u001b[1;34m(path)\u001b[0m\n\u001b[0;32m     50\u001b[0m \u001b[38;5;28;01mif\u001b[39;00m \u001b[38;5;129;01mnot\u001b[39;00m torch\u001b[38;5;241m.\u001b[39mjit\u001b[38;5;241m.\u001b[39mis_scripting() \u001b[38;5;129;01mand\u001b[39;00m \u001b[38;5;129;01mnot\u001b[39;00m torch\u001b[38;5;241m.\u001b[39mjit\u001b[38;5;241m.\u001b[39mis_tracing():\n\u001b[0;32m     51\u001b[0m     _log_api_usage_once(read_file)\n\u001b[1;32m---> 52\u001b[0m data \u001b[38;5;241m=\u001b[39m \u001b[43mtorch\u001b[49m\u001b[38;5;241;43m.\u001b[39;49m\u001b[43mops\u001b[49m\u001b[38;5;241;43m.\u001b[39;49m\u001b[43mimage\u001b[49m\u001b[38;5;241;43m.\u001b[39;49m\u001b[43mread_file\u001b[49m\u001b[43m(\u001b[49m\u001b[43mpath\u001b[49m\u001b[43m)\u001b[49m\n\u001b[0;32m     53\u001b[0m \u001b[38;5;28;01mreturn\u001b[39;00m data\n",
      "File \u001b[1;32mc:\\Users\\dange\\anaconda3\\envs\\dnn\\lib\\site-packages\\torch\\_ops.py:755\u001b[0m, in \u001b[0;36mOpOverloadPacket.__call__\u001b[1;34m(self, *args, **kwargs)\u001b[0m\n\u001b[0;32m    750\u001b[0m \u001b[38;5;28;01mdef\u001b[39;00m \u001b[38;5;21m__call__\u001b[39m(\u001b[38;5;28mself\u001b[39m, \u001b[38;5;241m*\u001b[39margs, \u001b[38;5;241m*\u001b[39m\u001b[38;5;241m*\u001b[39mkwargs):\n\u001b[0;32m    751\u001b[0m     \u001b[38;5;66;03m# overloading __call__ to ensure torch.ops.foo.bar()\u001b[39;00m\n\u001b[0;32m    752\u001b[0m     \u001b[38;5;66;03m# is still callable from JIT\u001b[39;00m\n\u001b[0;32m    753\u001b[0m     \u001b[38;5;66;03m# We save the function ptr as the `op` attribute on\u001b[39;00m\n\u001b[0;32m    754\u001b[0m     \u001b[38;5;66;03m# OpOverloadPacket to access it here.\u001b[39;00m\n\u001b[1;32m--> 755\u001b[0m     \u001b[38;5;28;01mreturn\u001b[39;00m \u001b[38;5;28mself\u001b[39m\u001b[38;5;241m.\u001b[39m_op(\u001b[38;5;241m*\u001b[39margs, \u001b[38;5;241m*\u001b[39m\u001b[38;5;241m*\u001b[39m(kwargs \u001b[38;5;129;01mor\u001b[39;00m {}))\n",
      "\u001b[1;31mKeyboardInterrupt\u001b[0m: "
     ]
    }
   ],
   "source": [
    "loss_fn = nn.CrossEntropyLoss()\n",
    "optimizer = torch.optim.Adam(model.parameters(), lr=learning_rate)\n",
    "accuracies = []\n",
    "\n",
    "for t in range(epochs):\n",
    "    print(f\"Epoch {t+1}\\n-------------------------------\")\n",
    "    train_loop(train_dataloader, model, loss_fn, optimizer)\n",
    "    accuracies.append(test_loop(test_dataloader, model, loss_fn))\n",
    "print(\"Done!\")"
   ]
  }
 ],
 "metadata": {
  "kernelspec": {
   "display_name": "dnn",
   "language": "python",
   "name": "python3"
  },
  "language_info": {
   "codemirror_mode": {
    "name": "ipython",
    "version": 3
   },
   "file_extension": ".py",
   "mimetype": "text/x-python",
   "name": "python",
   "nbconvert_exporter": "python",
   "pygments_lexer": "ipython3",
   "version": "3.9.18"
  }
 },
 "nbformat": 4,
 "nbformat_minor": 2
}
