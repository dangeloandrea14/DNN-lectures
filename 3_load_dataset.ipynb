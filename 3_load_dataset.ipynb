{
 "cells": [
  {
   "cell_type": "code",
   "execution_count": 23,
   "metadata": {},
   "outputs": [],
   "source": [
    "import os\n",
    "import pandas as pd\n",
    "from sklearn.preprocessing import LabelEncoder\n",
    "import matplotlib.pyplot as plt\n",
    "from PIL import Image"
   ]
  },
  {
   "cell_type": "code",
   "execution_count": 24,
   "metadata": {},
   "outputs": [],
   "source": [
    "datafolder = os.path.join(\"data\", \"screenshots\", \"screenshots\",\"genres\")"
   ]
  },
  {
   "cell_type": "code",
   "execution_count": 25,
   "metadata": {},
   "outputs": [],
   "source": [
    "genres = os.listdir(datafolder)\n",
    "image_labels = pd.DataFrame()\n",
    "img_path = os.path.join('screenshots','genres')\n",
    "for genre in genres:\n",
    "    if genre[0] != \".\":\n",
    "        if genre != 'Indie' and genre != 'Adventure':\n",
    "            images = os.listdir(os.path.join(datafolder, genre))\n",
    "            images = [os.path.join(img_path, genre, image) for image in images]\n",
    "            temp = pd.DataFrame({'image': images, 'genre': [genre]*len(images)})\n",
    "            image_labels = pd.concat([image_labels, temp], ignore_index=True)"
   ]
  },
  {
   "cell_type": "code",
   "execution_count": 26,
   "metadata": {},
   "outputs": [],
   "source": [
    "image_labels = image_labels[image_labels['image'].str.contains('.jpg')]\n",
    "\n",
    "image_labels['image_name'] = image_labels['image'].apply(lambda x: x.split(os.sep)[-1])\n",
    "\n",
    "image_labels = image_labels.drop_duplicates(subset='image_name').drop(columns='image_name')"
   ]
  },
  {
   "cell_type": "code",
   "execution_count": 27,
   "metadata": {},
   "outputs": [
    {
     "data": {
      "text/html": [
       "<div>\n",
       "<style scoped>\n",
       "    .dataframe tbody tr th:only-of-type {\n",
       "        vertical-align: middle;\n",
       "    }\n",
       "\n",
       "    .dataframe tbody tr th {\n",
       "        vertical-align: top;\n",
       "    }\n",
       "\n",
       "    .dataframe thead th {\n",
       "        text-align: right;\n",
       "    }\n",
       "</style>\n",
       "<table border=\"1\" class=\"dataframe\">\n",
       "  <thead>\n",
       "    <tr style=\"text-align: right;\">\n",
       "      <th></th>\n",
       "      <th>image</th>\n",
       "      <th>genre</th>\n",
       "    </tr>\n",
       "  </thead>\n",
       "  <tbody>\n",
       "    <tr>\n",
       "      <th>0</th>\n",
       "      <td>screenshots\\genres\\Arcade\\gameid_100023_img_sc...</td>\n",
       "      <td>Arcade</td>\n",
       "    </tr>\n",
       "    <tr>\n",
       "      <th>1</th>\n",
       "      <td>screenshots\\genres\\Arcade\\gameid_100023_img_sc...</td>\n",
       "      <td>Arcade</td>\n",
       "    </tr>\n",
       "    <tr>\n",
       "      <th>2</th>\n",
       "      <td>screenshots\\genres\\Arcade\\gameid_100023_img_sc...</td>\n",
       "      <td>Arcade</td>\n",
       "    </tr>\n",
       "    <tr>\n",
       "      <th>3</th>\n",
       "      <td>screenshots\\genres\\Arcade\\gameid_100024_img_sc...</td>\n",
       "      <td>Arcade</td>\n",
       "    </tr>\n",
       "    <tr>\n",
       "      <th>4</th>\n",
       "      <td>screenshots\\genres\\Arcade\\gameid_100060_img_sc...</td>\n",
       "      <td>Arcade</td>\n",
       "    </tr>\n",
       "  </tbody>\n",
       "</table>\n",
       "</div>"
      ],
      "text/plain": [
       "                                               image   genre\n",
       "0  screenshots\\genres\\Arcade\\gameid_100023_img_sc...  Arcade\n",
       "1  screenshots\\genres\\Arcade\\gameid_100023_img_sc...  Arcade\n",
       "2  screenshots\\genres\\Arcade\\gameid_100023_img_sc...  Arcade\n",
       "3  screenshots\\genres\\Arcade\\gameid_100024_img_sc...  Arcade\n",
       "4  screenshots\\genres\\Arcade\\gameid_100060_img_sc...  Arcade"
      ]
     },
     "execution_count": 27,
     "metadata": {},
     "output_type": "execute_result"
    }
   ],
   "source": [
    "image_labels.head()"
   ]
  },
  {
   "cell_type": "code",
   "execution_count": 28,
   "metadata": {},
   "outputs": [
    {
     "data": {
      "text/html": [
       "<div>\n",
       "<style scoped>\n",
       "    .dataframe tbody tr th:only-of-type {\n",
       "        vertical-align: middle;\n",
       "    }\n",
       "\n",
       "    .dataframe tbody tr th {\n",
       "        vertical-align: top;\n",
       "    }\n",
       "\n",
       "    .dataframe thead th {\n",
       "        text-align: right;\n",
       "    }\n",
       "</style>\n",
       "<table border=\"1\" class=\"dataframe\">\n",
       "  <thead>\n",
       "    <tr style=\"text-align: right;\">\n",
       "      <th></th>\n",
       "      <th>image</th>\n",
       "      <th>genre</th>\n",
       "      <th>genre_encoded</th>\n",
       "    </tr>\n",
       "  </thead>\n",
       "  <tbody>\n",
       "    <tr>\n",
       "      <th>0</th>\n",
       "      <td>screenshots\\genres\\Arcade\\gameid_100023_img_sc...</td>\n",
       "      <td>Arcade</td>\n",
       "      <td>0</td>\n",
       "    </tr>\n",
       "    <tr>\n",
       "      <th>1</th>\n",
       "      <td>screenshots\\genres\\Arcade\\gameid_100023_img_sc...</td>\n",
       "      <td>Arcade</td>\n",
       "      <td>0</td>\n",
       "    </tr>\n",
       "    <tr>\n",
       "      <th>2</th>\n",
       "      <td>screenshots\\genres\\Arcade\\gameid_100023_img_sc...</td>\n",
       "      <td>Arcade</td>\n",
       "      <td>0</td>\n",
       "    </tr>\n",
       "    <tr>\n",
       "      <th>3</th>\n",
       "      <td>screenshots\\genres\\Arcade\\gameid_100024_img_sc...</td>\n",
       "      <td>Arcade</td>\n",
       "      <td>0</td>\n",
       "    </tr>\n",
       "    <tr>\n",
       "      <th>4</th>\n",
       "      <td>screenshots\\genres\\Arcade\\gameid_100060_img_sc...</td>\n",
       "      <td>Arcade</td>\n",
       "      <td>0</td>\n",
       "    </tr>\n",
       "  </tbody>\n",
       "</table>\n",
       "</div>"
      ],
      "text/plain": [
       "                                               image   genre  genre_encoded\n",
       "0  screenshots\\genres\\Arcade\\gameid_100023_img_sc...  Arcade              0\n",
       "1  screenshots\\genres\\Arcade\\gameid_100023_img_sc...  Arcade              0\n",
       "2  screenshots\\genres\\Arcade\\gameid_100023_img_sc...  Arcade              0\n",
       "3  screenshots\\genres\\Arcade\\gameid_100024_img_sc...  Arcade              0\n",
       "4  screenshots\\genres\\Arcade\\gameid_100060_img_sc...  Arcade              0"
      ]
     },
     "execution_count": 28,
     "metadata": {},
     "output_type": "execute_result"
    }
   ],
   "source": [
    "#encode genres\n",
    "le = LabelEncoder()\n",
    "image_labels['genre_encoded'] = le.fit_transform(image_labels['genre'])\n",
    "image_labels.head()"
   ]
  },
  {
   "cell_type": "code",
   "execution_count": 29,
   "metadata": {},
   "outputs": [],
   "source": [
    "image_labels.drop(columns='image').drop_duplicates(subset='genre').to_csv(os.path.join('data', 'screenshots', 'genre_labels.csv'), index=False)\n",
    "\n",
    "image_labels.drop(columns='genre').to_csv(os.path.join('data', 'screenshots', 'image_labels.csv'), index=False)"
   ]
  }
 ],
 "metadata": {
  "kernelspec": {
   "display_name": "dnn",
   "language": "python",
   "name": "python3"
  },
  "language_info": {
   "codemirror_mode": {
    "name": "ipython",
    "version": 3
   },
   "file_extension": ".py",
   "mimetype": "text/x-python",
   "name": "python",
   "nbconvert_exporter": "python",
   "pygments_lexer": "ipython3",
   "version": "3.9.18"
  }
 },
 "nbformat": 4,
 "nbformat_minor": 2
}
