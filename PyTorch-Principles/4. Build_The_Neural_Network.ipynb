{
  "cells": [
    {
      "attachments": {},
      "cell_type": "markdown",
      "metadata": {
        "id": "lSOKgKbQgyCF"
      },
      "source": [
        "# Build the Neural Network\n",
        "\n",
        "Neural networks comprise of layers/modules that perform operations on data. The [torch.nn](https://pytorch.org/docs/stable/nn.html) namespace provides all the building blocks you need to build your own neural network. Every module in PyTorch subclasses the [nn.Module](https://pytorch.org/docs/stable/generated/torch.nn.Module.html). A neural network is a module itself that consists of other modules (layers). This nested structure allows for building and managing complex architectures easily.\n",
        "\n",
        "In the following sections, we'll build a neural network to classify images in the FashionMNIST dataset."
      ]
    },
    {
      "cell_type": "code",
      "execution_count": 1,
      "metadata": {
        "id": "SQOju8fPg3qj"
      },
      "outputs": [],
      "source": [
        "import os\n",
        "import torch\n",
        "from torch import nn\n",
        "from torch.utils.data import DataLoader\n",
        "from torchvision import datasets, transforms"
      ]
    },
    {
      "attachments": {},
      "cell_type": "markdown",
      "metadata": {
        "id": "wH005Av_hDl1"
      },
      "source": [
        "## Get Device for Training\n",
        "\n",
        "We want to be able to train our model on a hardware accelerator like the GPU or MPS, if available. Let's check to see if [torch.cuda](https://pytorch.org/docs/stable/notes/cuda.html) or [torch.backends.mps](https://pytorch.org/docs/stable/notes/mps.html) are available, otherwise we use the CPU."
      ]
    },
    {
      "cell_type": "code",
      "execution_count": 2,
      "metadata": {
        "colab": {
          "base_uri": "https://localhost:8080/"
        },
        "id": "zIV1fPJnhDGo",
        "outputId": "0926a337-81e4-4335-eb0b-d08828a8bb34"
      },
      "outputs": [
        {
          "name": "stdout",
          "output_type": "stream",
          "text": [
            "Using cpu device\n"
          ]
        }
      ],
      "source": [
        "device = (\n",
        "    \"cuda\"\n",
        "    if torch.cuda.is_available()\n",
        "    else \"mps\"\n",
        "    if torch.backends.mps.is_available()\n",
        "    else \"cpu\"\n",
        ")\n",
        "print(f\"Using {device} device\")"
      ]
    },
    {
      "attachments": {},
      "cell_type": "markdown",
      "metadata": {
        "id": "rIFC8TkKhOCS"
      },
      "source": [
        "## Define the Class\n",
        "\n",
        "\n",
        "We define our neural network by subclassing ```nn.Module```, and initialize the neural network layers in ```__init__```. Every ```nn.Module``` subclass implements the operations on input data in the ```forward``` method."
      ]
    },
    {
      "cell_type": "code",
      "execution_count": 3,
      "metadata": {
        "id": "MvBpgpOshNJl"
      },
      "outputs": [],
      "source": [
        "class MyNeuralNetwork(nn.Module):\n",
        "  def __init__(self):\n",
        "    super().__init__()\n",
        "    self.fc1 = nn.Linear(28*28, 512)\n",
        "    self.relu1 = nn.ReLU()\n",
        "    self.fc2 = nn.Linear(512,512)\n",
        "    self.relu2 = nn.ReLU()\n",
        "    self.fc3 = nn.Linear(512,10)\n",
        "    \n",
        "  def forward(self, x):\n",
        "    x = self.fc1(x)\n",
        "    x = self.relu1(x)\n",
        "    x = self.fc2(x)\n",
        "    x = self.relu2(x)\n",
        "    raw_output = self.fc3(x)\n",
        "    return raw_output"
      ]
    },
    {
      "attachments": {},
      "cell_type": "markdown",
      "metadata": {
        "id": "m7RTnfFphYda"
      },
      "source": [
        "We create an instance of ```MyNeuralNetwork```, and move it to the ```device```, and print its structure.\n",
        "\n",
        "\n"
      ]
    },
    {
      "cell_type": "code",
      "execution_count": 4,
      "metadata": {
        "colab": {
          "base_uri": "https://localhost:8080/"
        },
        "id": "8lz5_3cDhXBZ",
        "outputId": "a5937752-a422-4844-ca7a-b2d6b682aab5"
      },
      "outputs": [
        {
          "name": "stdout",
          "output_type": "stream",
          "text": [
            "MyNeuralNetwork(\n",
            "  (fc1): Linear(in_features=784, out_features=512, bias=True)\n",
            "  (relu1): ReLU()\n",
            "  (fc2): Linear(in_features=512, out_features=512, bias=True)\n",
            "  (relu2): ReLU()\n",
            "  (fc3): Linear(in_features=512, out_features=10, bias=True)\n",
            ")\n"
          ]
        }
      ],
      "source": [
        "model = MyNeuralNetwork().to(device)\n",
        "print(model)"
      ]
    },
    {
      "attachments": {},
      "cell_type": "markdown",
      "metadata": {
        "id": "KykymBtShdoW"
      },
      "source": [
        "To use the model, we pass it the input data. This executes the model's ```forward```, along with some [background operations](https://github.com/pytorch/pytorch/blob/270111b7b611d174967ed204776985cefca9c144/torch/nn/modules/module.py#L866). Do not call ```model.forward()``` directly!\n",
        "\n",
        "\n",
        "Calling the model on the input returns a 2-dimensional tensor with dim=0 corresponding to each output of 10 raw predicted values for each class, and dim=1 corresponding to the individual values of each output. We get the prediction probabilities by passing it through an instance of the ```nn.Softmax``` module."
      ]
    },
    {
      "cell_type": "code",
      "execution_count": 5,
      "metadata": {
        "colab": {
          "base_uri": "https://localhost:8080/"
        },
        "id": "lUCj331yhcMT",
        "outputId": "c5b14723-bc8c-4fb6-edcd-bf385a41644c"
      },
      "outputs": [
        {
          "name": "stdout",
          "output_type": "stream",
          "text": [
            "Predicted class: tensor([8])\n"
          ]
        }
      ],
      "source": [
        "x = torch.rand(1, 28*28, device=device)\n",
        "raw_output = model(x)\n",
        "pred_probab = nn.Softmax(dim=1)(raw_output)\n",
        "y_pred = pred_probab.argmax(1)\n",
        "print(f\"Predicted class: {y_pred}\")"
      ]
    },
    {
      "attachments": {},
      "cell_type": "markdown",
      "metadata": {
        "id": "6ZkguFY2hwwu"
      },
      "source": [
        "## Model Layers\n",
        "\n",
        "Let's break down the layers in the FashionMNIST model. To illustrate it, we will take a sample minibatch of 3 images of size 28x28 and see what happens to it as we pass it through the network."
      ]
    },
    {
      "cell_type": "code",
      "execution_count": 6,
      "metadata": {
        "colab": {
          "base_uri": "https://localhost:8080/"
        },
        "id": "TnX_Od4uhsHn",
        "outputId": "8c17f7aa-2301-4c82-ca83-e14f24b0f970"
      },
      "outputs": [
        {
          "name": "stdout",
          "output_type": "stream",
          "text": [
            "torch.Size([3, 784])\n"
          ]
        }
      ],
      "source": [
        "input_image = torch.rand(3,28*28)\n",
        "print(input_image.size())"
      ]
    },
    {
      "attachments": {},
      "cell_type": "markdown",
      "metadata": {
        "id": "zuoAPAO8iEzQ"
      },
      "source": [
        "### nn.Linear\n",
        "\n",
        "The [linear layer](https://pytorch.org/docs/stable/generated/torch.nn.Linear.html) is a module that applies a linear transformation on the input using its stored weights and biases.\n",
        "\n"
      ]
    },
    {
      "cell_type": "code",
      "execution_count": 7,
      "metadata": {
        "colab": {
          "base_uri": "https://localhost:8080/"
        },
        "id": "TFKVX-P0iDMk",
        "outputId": "03b36b83-3682-437d-f287-93a6077f3b56"
      },
      "outputs": [
        {
          "name": "stdout",
          "output_type": "stream",
          "text": [
            "torch.Size([3, 20])\n"
          ]
        }
      ],
      "source": [
        "layer1 = nn.Linear(in_features=28*28, out_features=20)\n",
        "hidden1 = layer1(input_image)\n",
        "print(hidden1.size())"
      ]
    },
    {
      "attachments": {},
      "cell_type": "markdown",
      "metadata": {
        "id": "o7GZH5KPiMPi"
      },
      "source": [
        "## nn.ReLU\n",
        "\n",
        "Non-linear activations are what create the complex mappings between the model's inputs and outputs. They are applied after linear transformations to introduce nonlinearity, helping neural networks learn a wide variety of phenomena.\n",
        "\n",
        "In this model, we use [nn.ReLU](https://pytorch.org/docs/stable/generated/torch.nn.ReLU.html) between our linear layers, but there's other activations to introduce non-linearity in your model."
      ]
    },
    {
      "cell_type": "code",
      "execution_count": 8,
      "metadata": {
        "colab": {
          "base_uri": "https://localhost:8080/"
        },
        "id": "jOGYXxNziLju",
        "outputId": "ed6f7d01-d1c7-4e5c-9712-c9fd58238b72"
      },
      "outputs": [
        {
          "name": "stdout",
          "output_type": "stream",
          "text": [
            "Before ReLU: tensor([[-0.1857,  0.1029, -0.1446,  0.7264,  0.8233, -0.2805,  0.1828, -1.1818,\n",
            "          0.1256, -0.0048,  0.3751, -0.5523,  0.2864,  0.2188, -0.0667, -0.2217,\n",
            "          0.4612, -0.0630,  0.0155, -0.3488],\n",
            "        [-0.4607,  0.2199,  0.3177,  0.8678,  0.6322, -0.2198, -0.0844, -0.8910,\n",
            "         -0.0255, -0.2013,  0.5967, -0.2376, -0.0308,  0.1975, -0.0592,  0.0186,\n",
            "          0.4229,  0.0118,  0.0820, -0.2285],\n",
            "        [-0.5250,  0.2129,  0.3226,  1.1144,  0.2375,  0.0422,  0.1054, -0.9091,\n",
            "          0.0061, -0.1383,  0.4276, -0.5400, -0.0509,  0.2644,  0.0788,  0.1945,\n",
            "          0.7870,  0.0032,  0.1221, -0.4656]], grad_fn=<AddmmBackward0>)\n",
            "\n",
            "\n",
            "After ReLU: tensor([[0.0000, 0.1029, 0.0000, 0.7264, 0.8233, 0.0000, 0.1828, 0.0000, 0.1256,\n",
            "         0.0000, 0.3751, 0.0000, 0.2864, 0.2188, 0.0000, 0.0000, 0.4612, 0.0000,\n",
            "         0.0155, 0.0000],\n",
            "        [0.0000, 0.2199, 0.3177, 0.8678, 0.6322, 0.0000, 0.0000, 0.0000, 0.0000,\n",
            "         0.0000, 0.5967, 0.0000, 0.0000, 0.1975, 0.0000, 0.0186, 0.4229, 0.0118,\n",
            "         0.0820, 0.0000],\n",
            "        [0.0000, 0.2129, 0.3226, 1.1144, 0.2375, 0.0422, 0.1054, 0.0000, 0.0061,\n",
            "         0.0000, 0.4276, 0.0000, 0.0000, 0.2644, 0.0788, 0.1945, 0.7870, 0.0032,\n",
            "         0.1221, 0.0000]], grad_fn=<ReluBackward0>)\n"
          ]
        }
      ],
      "source": [
        "print(f\"Before ReLU: {hidden1}\\n\\n\")\n",
        "hidden1 = nn.ReLU()(hidden1)\n",
        "print(f\"After ReLU: {hidden1}\")"
      ]
    },
    {
      "attachments": {},
      "cell_type": "markdown",
      "metadata": {
        "id": "ijA1QKqAiePE"
      },
      "source": [
        "## nn.Softmax\n",
        "\n",
        "\n",
        "The last linear layer of the neural network returns *logits* - raw values in [-infty, infty] - which are passed to the [nn.Softmax](https://pytorch.org/docs/stable/generated/torch.nn.Softmax.html) module. The logits are scaled to values [0, 1] representing the model's predicted probabilities for each class. ```dim``` parameter indicates the dimension along which the values must sum to 1."
      ]
    },
    {
      "cell_type": "code",
      "execution_count": 12,
      "metadata": {
        "id": "wbo8j9vHidw1"
      },
      "outputs": [
        {
          "name": "stdout",
          "output_type": "stream",
          "text": [
            "tensor([[0.0970, 0.1019, 0.1034, 0.0969, 0.0994, 0.1051, 0.0981, 0.0948, 0.1097,\n",
            "         0.0938]], grad_fn=<SoftmaxBackward0>)\n"
          ]
        }
      ],
      "source": [
        "softmax = nn.Softmax(dim=1)\n",
        "pred_probab = softmax(raw_output)\n",
        "print(pred_probab)"
      ]
    },
    {
      "attachments": {},
      "cell_type": "markdown",
      "metadata": {
        "id": "FIoKunVwis15"
      },
      "source": [
        "## Model Parameters\n",
        "\n",
        "\n",
        "Many layers inside a neural network are *parameterized*, i.e. have associated weights and biases that are optimized during training. Subclassing ```nn.Module``` automatically tracks all fields defined inside your model object, and makes all parameters accessible using your model's ```parameters()``` or ```named_parameters()``` methods.\n",
        "\n",
        "In this example, we iterate over each parameter, and print its size and a preview of its values."
      ]
    },
    {
      "cell_type": "code",
      "execution_count": 13,
      "metadata": {
        "colab": {
          "base_uri": "https://localhost:8080/"
        },
        "id": "5UMQmtHcir-W",
        "outputId": "829ad603-e225-4477-eaa0-5b6c071e439b"
      },
      "outputs": [
        {
          "name": "stdout",
          "output_type": "stream",
          "text": [
            "Model structure: MyNeuralNetwork(\n",
            "  (fc1): Linear(in_features=784, out_features=512, bias=True)\n",
            "  (relu1): ReLU()\n",
            "  (fc2): Linear(in_features=512, out_features=512, bias=True)\n",
            "  (relu2): ReLU()\n",
            "  (fc3): Linear(in_features=512, out_features=10, bias=True)\n",
            ")\n",
            "\n",
            "\n",
            "Layer: fc1.weight | Size: torch.Size([512, 784]) | Values : tensor([[-0.0317, -0.0113,  0.0012,  ...,  0.0080, -0.0356, -0.0309],\n",
            "        [ 0.0205, -0.0173,  0.0096,  ...,  0.0223,  0.0304,  0.0063]],\n",
            "       grad_fn=<SliceBackward0>) \n",
            "\n",
            "Layer: fc1.bias | Size: torch.Size([512]) | Values : tensor([-0.0336, -0.0262], grad_fn=<SliceBackward0>) \n",
            "\n",
            "Layer: fc2.weight | Size: torch.Size([512, 512]) | Values : tensor([[ 0.0208,  0.0398,  0.0278,  ..., -0.0347, -0.0075,  0.0373],\n",
            "        [-0.0369,  0.0030,  0.0314,  ..., -0.0179, -0.0017, -0.0373]],\n",
            "       grad_fn=<SliceBackward0>) \n",
            "\n",
            "Layer: fc2.bias | Size: torch.Size([512]) | Values : tensor([-0.0347,  0.0194], grad_fn=<SliceBackward0>) \n",
            "\n",
            "Layer: fc3.weight | Size: torch.Size([10, 512]) | Values : tensor([[ 0.0336, -0.0393,  0.0201,  ...,  0.0405,  0.0233,  0.0195],\n",
            "        [-0.0263, -0.0238, -0.0330,  ...,  0.0398, -0.0050, -0.0337]],\n",
            "       grad_fn=<SliceBackward0>) \n",
            "\n",
            "Layer: fc3.bias | Size: torch.Size([10]) | Values : tensor([-0.0004,  0.0258], grad_fn=<SliceBackward0>) \n",
            "\n"
          ]
        }
      ],
      "source": [
        "print(f\"Model structure: {model}\\n\\n\")\n",
        "\n",
        "for name, param in model.named_parameters():\n",
        "  print(f\"Layer: {name} | Size: {param.size()} | Values : {param[:2]} \\n\")"
      ]
    }
  ],
  "metadata": {
    "colab": {
      "provenance": []
    },
    "kernelspec": {
      "display_name": "Python 3",
      "name": "python3"
    },
    "language_info": {
      "codemirror_mode": {
        "name": "ipython",
        "version": 3
      },
      "file_extension": ".py",
      "mimetype": "text/x-python",
      "name": "python",
      "nbconvert_exporter": "python",
      "pygments_lexer": "ipython3",
      "version": "3.9.16"
    }
  },
  "nbformat": 4,
  "nbformat_minor": 0
}
