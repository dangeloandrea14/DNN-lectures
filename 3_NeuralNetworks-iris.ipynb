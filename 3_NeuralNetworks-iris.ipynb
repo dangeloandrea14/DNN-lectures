{
 "cells": [
  {
   "cell_type": "code",
   "execution_count": 1,
   "metadata": {},
   "outputs": [],
   "source": [
    "import pandas as pd \n",
    "import numpy as np \n",
    "import os\n",
    "import torch\n",
    "from torch import nn\n",
    "import torch.optim as optim\n",
    "from torch.utils.data import Dataset\n",
    "from torch.utils.data import DataLoader\n",
    "import matplotlib.pyplot as plt\n",
    "import seaborn as sns\n",
    "from sklearn.preprocessing import StandardScaler\n",
    "from sklearn.utils.multiclass import unique_labels\n",
    "from sklearn.metrics import confusion_matrix"
   ]
  },
  {
   "cell_type": "code",
   "execution_count": 2,
   "metadata": {},
   "outputs": [],
   "source": [
    "device = torch.device(\"cuda\" if torch.cuda.is_available() else \"cpu\")"
   ]
  },
  {
   "cell_type": "markdown",
   "metadata": {},
   "source": [
    "# Deep Neural Networks Laboratory"
   ]
  },
  {
   "cell_type": "markdown",
   "metadata": {},
   "source": [
    "In this notebook, we are going to train a Neural Network step by step. \n",
    "\n",
    "\n",
    "Remember that the network we defined in notebook 1 was able to infer output values (that is, executing a forward step), but since they were not trained, the weights were still randomly initialized, and as such, the output was basically random.\n",
    "\n",
    "Traning can be done entirely within Pytorch. However, we will also use the aid of a tool called _Weights & Biases_ for visualization.\n",
    "\n",
    "To do this, we must import:\n",
    "pip install wandb\n",
    "\n",
    "and create an account at https://wandb.ai/\n"
   ]
  },
  {
   "cell_type": "code",
   "execution_count": 3,
   "metadata": {},
   "outputs": [],
   "source": [
    "#!pip install wandb\n",
    "\n",
    "#!wandb login API_KEY"
   ]
  },
  {
   "cell_type": "code",
   "execution_count": 4,
   "metadata": {},
   "outputs": [],
   "source": [
    "learning_rate = 1e-4\n",
    "batch_size = 16\n",
    "epochs = 100"
   ]
  },
  {
   "cell_type": "code",
   "execution_count": 5,
   "metadata": {},
   "outputs": [
    {
     "name": "stderr",
     "output_type": "stream",
     "text": [
      "\u001b[34m\u001b[1mwandb\u001b[0m: Currently logged in as: \u001b[33mdangeloandrea14\u001b[0m (\u001b[33mdisim209\u001b[0m). Use \u001b[1m`wandb login --relogin`\u001b[0m to force relogin\n"
     ]
    },
    {
     "data": {
      "text/html": [
       "Tracking run with wandb version 0.16.6"
      ],
      "text/plain": [
       "<IPython.core.display.HTML object>"
      ]
     },
     "metadata": {},
     "output_type": "display_data"
    },
    {
     "data": {
      "text/html": [
       "Run data is saved locally in <code>/Users/andreadangelo/Desktop/Lectures/DNN-lectures/wandb/run-20240424_233414-soraut3b</code>"
      ],
      "text/plain": [
       "<IPython.core.display.HTML object>"
      ]
     },
     "metadata": {},
     "output_type": "display_data"
    },
    {
     "data": {
      "text/html": [
       "Syncing run <strong><a href='https://wandb.ai/disim209/DNN-iris_wine/runs/soraut3b' target=\"_blank\">iris_run</a></strong> to <a href='https://wandb.ai/disim209/DNN-iris_wine' target=\"_blank\">Weights & Biases</a> (<a href='https://wandb.me/run' target=\"_blank\">docs</a>)<br/>"
      ],
      "text/plain": [
       "<IPython.core.display.HTML object>"
      ]
     },
     "metadata": {},
     "output_type": "display_data"
    },
    {
     "data": {
      "text/html": [
       " View project at <a href='https://wandb.ai/disim209/DNN-iris_wine' target=\"_blank\">https://wandb.ai/disim209/DNN-iris_wine</a>"
      ],
      "text/plain": [
       "<IPython.core.display.HTML object>"
      ]
     },
     "metadata": {},
     "output_type": "display_data"
    },
    {
     "data": {
      "text/html": [
       " View run at <a href='https://wandb.ai/disim209/DNN-iris_wine/runs/soraut3b' target=\"_blank\">https://wandb.ai/disim209/DNN-iris_wine/runs/soraut3b</a>"
      ],
      "text/plain": [
       "<IPython.core.display.HTML object>"
      ]
     },
     "metadata": {},
     "output_type": "display_data"
    },
    {
     "data": {
      "text/html": [
       "<button onClick=\"this.nextSibling.style.display='block';this.style.display='none';\">Display W&B run</button><iframe src='https://wandb.ai/disim209/DNN-iris_wine/runs/soraut3b?jupyter=true' style='border:none;width:100%;height:420px;display:none;'></iframe>"
      ],
      "text/plain": [
       "<wandb.sdk.wandb_run.Run at 0x28b4a8550>"
      ]
     },
     "execution_count": 5,
     "metadata": {},
     "output_type": "execute_result"
    }
   ],
   "source": [
    "import wandb\n",
    "import random\n",
    "\n",
    "os.environ[\"WANDB_NOTEBOOK_NAME\"] = \"3_NeuralNetworks-iris.ipynb\"\n",
    "\n",
    "# start a new wandb run to track this script\n",
    "wandb.init(\n",
    "    # set the wandb project where this run will be logged\n",
    "    project=\"DNN-iris_wine\",\n",
    "    name=\"iris_run\",\n",
    "\n",
    "    # track hyperparameters and run metadata\n",
    "    config={\n",
    "    \"learning_rate\": learning_rate,\n",
    "    \"architecture\": \"DNN\",\n",
    "    \"dataset\": \"IRIS\",\n",
    "    \"epochs\": epochs,\n",
    "    }\n",
    ")\n"
   ]
  },
  {
   "cell_type": "markdown",
   "metadata": {},
   "source": [
    "## Dataset"
   ]
  },
  {
   "cell_type": "markdown",
   "metadata": {},
   "source": [
    "A Neural Network should always be built considering the dataset at hand.\n",
    "\n",
    "In our case, we will continue our example with the Iris Dataset we built in the previous notebook."
   ]
  },
  {
   "cell_type": "code",
   "execution_count": 6,
   "metadata": {},
   "outputs": [],
   "source": [
    "class GenericDataset(Dataset):\n",
    "    def __init__(self, targets_file, data_file, transform=None, target_transform=None):\n",
    "        self.targets_file = pd.read_csv(targets_file)\n",
    "\n",
    "        scaler = StandardScaler()        \n",
    "        self.data_file = pd.read_csv(data_file)\n",
    "        self.data_file = scaler.fit_transform(self.data_file)\n",
    "        self.data_file = pd.DataFrame(self.data_file)\n",
    "\n",
    "        self.transform = transform\n",
    "        self.target_transform = target_transform\n",
    "\n",
    "    def __len__(self):\n",
    "        return len(self.targets_file)\n",
    "\n",
    "    def __getitem__(self, idx):\n",
    "\n",
    "        \n",
    "        return self.data_file.iloc[idx].to_numpy(dtype=np.float32), self.targets_file.iloc[idx].item()\n",
    "    \n",
    "    def get_dataset(self):\n",
    "        return self.data_file, self.targets_file"
   ]
  },
  {
   "cell_type": "code",
   "execution_count": 7,
   "metadata": {},
   "outputs": [],
   "source": [
    "folder = os.path.join('data', 'iris')"
   ]
  },
  {
   "cell_type": "code",
   "execution_count": 8,
   "metadata": {},
   "outputs": [],
   "source": [
    "IrisDataset = GenericDataset(targets_file=os.path.join(folder, 'targets.csv'), data_file=os.path.join(folder, 'data.csv'))"
   ]
  },
  {
   "cell_type": "code",
   "execution_count": 9,
   "metadata": {},
   "outputs": [],
   "source": [
    "train_size = int(0.9 * len(IrisDataset))\n",
    "test_size = len(IrisDataset) - train_size\n",
    "train_dataset, test_dataset = torch.utils.data.random_split(IrisDataset, [train_size, test_size])"
   ]
  },
  {
   "cell_type": "code",
   "execution_count": 10,
   "metadata": {},
   "outputs": [],
   "source": [
    "train_dataloader = DataLoader(train_dataset, batch_size=16, shuffle=True)\n",
    "test_dataloader = DataLoader(test_dataset, batch_size=16, shuffle=True)"
   ]
  },
  {
   "cell_type": "code",
   "execution_count": 11,
   "metadata": {},
   "outputs": [
    {
     "data": {
      "text/plain": [
       "[tensor([[ 0.3110, -1.0506,  1.0471,  0.2647],\n",
       "         [-1.1430, -0.1250, -1.3413, -1.3130],\n",
       "         [ 0.6745,  0.3378,  0.8765,  1.4480],\n",
       "         [ 0.1898, -0.1250,  0.5922,  0.7906],\n",
       "         [-1.0218, -1.7448, -0.2608, -0.2612],\n",
       "         [-1.0218,  1.0321, -1.2275, -0.7871],\n",
       "         [ 0.5533, -0.8192,  0.6490,  0.7906],\n",
       "         [ 0.1898,  0.8007,  0.4216,  0.5276],\n",
       "         [-0.9007,  1.7263, -1.2275, -1.3130],\n",
       "         [-0.1737, -0.3564,  0.2510,  0.1332],\n",
       "         [-0.1737, -1.2820,  0.7059,  1.0535],\n",
       "         [-0.9007,  1.0321, -1.3413, -1.1815],\n",
       "         [ 0.1898, -0.3564,  0.4216,  0.3962],\n",
       "         [ 0.6745, -0.8192,  0.8765,  0.9221],\n",
       "         [-1.1430,  0.1064, -1.2844, -1.4444],\n",
       "         [-1.2642,  0.1064, -1.2275, -1.3130]]),\n",
       " tensor([2, 0, 2, 2, 1, 0, 2, 1, 0, 1, 2, 0, 1, 2, 0, 0])]"
      ]
     },
     "execution_count": 11,
     "metadata": {},
     "output_type": "execute_result"
    }
   ],
   "source": [
    "next(iter(train_dataloader))"
   ]
  },
  {
   "cell_type": "code",
   "execution_count": 12,
   "metadata": {},
   "outputs": [
    {
     "data": {
      "text/html": [
       "<div>\n",
       "<style scoped>\n",
       "    .dataframe tbody tr th:only-of-type {\n",
       "        vertical-align: middle;\n",
       "    }\n",
       "\n",
       "    .dataframe tbody tr th {\n",
       "        vertical-align: top;\n",
       "    }\n",
       "\n",
       "    .dataframe thead th {\n",
       "        text-align: right;\n",
       "    }\n",
       "</style>\n",
       "<table border=\"1\" class=\"dataframe\">\n",
       "  <thead>\n",
       "    <tr style=\"text-align: right;\">\n",
       "      <th></th>\n",
       "      <th>0</th>\n",
       "      <th>1</th>\n",
       "      <th>2</th>\n",
       "      <th>3</th>\n",
       "    </tr>\n",
       "  </thead>\n",
       "  <tbody>\n",
       "    <tr>\n",
       "      <th>0</th>\n",
       "      <td>-0.900681</td>\n",
       "      <td>1.032057</td>\n",
       "      <td>-1.341272</td>\n",
       "      <td>-1.312977</td>\n",
       "    </tr>\n",
       "    <tr>\n",
       "      <th>1</th>\n",
       "      <td>-1.143017</td>\n",
       "      <td>-0.124958</td>\n",
       "      <td>-1.341272</td>\n",
       "      <td>-1.312977</td>\n",
       "    </tr>\n",
       "    <tr>\n",
       "      <th>2</th>\n",
       "      <td>-1.385353</td>\n",
       "      <td>0.337848</td>\n",
       "      <td>-1.398138</td>\n",
       "      <td>-1.312977</td>\n",
       "    </tr>\n",
       "    <tr>\n",
       "      <th>3</th>\n",
       "      <td>-1.506521</td>\n",
       "      <td>0.106445</td>\n",
       "      <td>-1.284407</td>\n",
       "      <td>-1.312977</td>\n",
       "    </tr>\n",
       "    <tr>\n",
       "      <th>4</th>\n",
       "      <td>-1.021849</td>\n",
       "      <td>1.263460</td>\n",
       "      <td>-1.341272</td>\n",
       "      <td>-1.312977</td>\n",
       "    </tr>\n",
       "    <tr>\n",
       "      <th>...</th>\n",
       "      <td>...</td>\n",
       "      <td>...</td>\n",
       "      <td>...</td>\n",
       "      <td>...</td>\n",
       "    </tr>\n",
       "    <tr>\n",
       "      <th>145</th>\n",
       "      <td>1.038005</td>\n",
       "      <td>-0.124958</td>\n",
       "      <td>0.819624</td>\n",
       "      <td>1.447956</td>\n",
       "    </tr>\n",
       "    <tr>\n",
       "      <th>146</th>\n",
       "      <td>0.553333</td>\n",
       "      <td>-1.281972</td>\n",
       "      <td>0.705893</td>\n",
       "      <td>0.922064</td>\n",
       "    </tr>\n",
       "    <tr>\n",
       "      <th>147</th>\n",
       "      <td>0.795669</td>\n",
       "      <td>-0.124958</td>\n",
       "      <td>0.819624</td>\n",
       "      <td>1.053537</td>\n",
       "    </tr>\n",
       "    <tr>\n",
       "      <th>148</th>\n",
       "      <td>0.432165</td>\n",
       "      <td>0.800654</td>\n",
       "      <td>0.933356</td>\n",
       "      <td>1.447956</td>\n",
       "    </tr>\n",
       "    <tr>\n",
       "      <th>149</th>\n",
       "      <td>0.068662</td>\n",
       "      <td>-0.124958</td>\n",
       "      <td>0.762759</td>\n",
       "      <td>0.790591</td>\n",
       "    </tr>\n",
       "  </tbody>\n",
       "</table>\n",
       "<p>150 rows × 4 columns</p>\n",
       "</div>"
      ],
      "text/plain": [
       "            0         1         2         3\n",
       "0   -0.900681  1.032057 -1.341272 -1.312977\n",
       "1   -1.143017 -0.124958 -1.341272 -1.312977\n",
       "2   -1.385353  0.337848 -1.398138 -1.312977\n",
       "3   -1.506521  0.106445 -1.284407 -1.312977\n",
       "4   -1.021849  1.263460 -1.341272 -1.312977\n",
       "..        ...       ...       ...       ...\n",
       "145  1.038005 -0.124958  0.819624  1.447956\n",
       "146  0.553333 -1.281972  0.705893  0.922064\n",
       "147  0.795669 -0.124958  0.819624  1.053537\n",
       "148  0.432165  0.800654  0.933356  1.447956\n",
       "149  0.068662 -0.124958  0.762759  0.790591\n",
       "\n",
       "[150 rows x 4 columns]"
      ]
     },
     "execution_count": 12,
     "metadata": {},
     "output_type": "execute_result"
    }
   ],
   "source": [
    "IrisDataset.get_dataset()[0]"
   ]
  },
  {
   "cell_type": "markdown",
   "metadata": {},
   "source": [
    "## Neural Network"
   ]
  },
  {
   "cell_type": "markdown",
   "metadata": {},
   "source": [
    "Pytorch is useful to build fully customizable Neural Networks.\n",
    "Keep in mind these three things:\n",
    "\n",
    "1. Our Neural Network will extend the class ```nn.Module```. \n",
    "\n",
    "2. The layers will be initialized inside ```__init__```.\n",
    "\n",
    "3. The operations on the input data are defined in the ```forward``` method."
   ]
  },
  {
   "cell_type": "code",
   "execution_count": 13,
   "metadata": {},
   "outputs": [],
   "source": [
    "class FirstNeuralNetwork(nn.Module):\n",
    "    def __init__(self):\n",
    "        super().__init__()\n",
    "        self.fc1 = nn.Linear(4, 40)\n",
    "        self.relu1 = nn.ReLU()\n",
    "        self.fc2 = nn.Linear(40, 50)\n",
    "        self.relu2 = nn.ReLU()\n",
    "        self.fc3 = nn.Linear(50, 20)\n",
    "        self.relu3 = nn.ReLU()\n",
    "        self.output_layer = nn.Linear(20, 3)  \n",
    "\n",
    "    def forward(self, x):\n",
    "        x = self.fc1(x)\n",
    "        x = self.relu1(x)\n",
    "        x = self.fc2(x)\n",
    "        x = self.relu2(x)\n",
    "        x = self.fc3(x)\n",
    "        x = self.relu3(x)\n",
    "        x = self.output_layer(x)\n",
    "        return x"
   ]
  },
  {
   "cell_type": "code",
   "execution_count": 14,
   "metadata": {},
   "outputs": [
    {
     "data": {
      "text/plain": [
       "FirstNeuralNetwork(\n",
       "  (fc1): Linear(in_features=4, out_features=40, bias=True)\n",
       "  (relu1): ReLU()\n",
       "  (fc2): Linear(in_features=40, out_features=50, bias=True)\n",
       "  (relu2): ReLU()\n",
       "  (fc3): Linear(in_features=50, out_features=20, bias=True)\n",
       "  (relu3): ReLU()\n",
       "  (output_layer): Linear(in_features=20, out_features=3, bias=True)\n",
       ")"
      ]
     },
     "execution_count": 14,
     "metadata": {},
     "output_type": "execute_result"
    }
   ],
   "source": [
    "model = FirstNeuralNetwork()\n",
    "model.to(device)"
   ]
  },
  {
   "cell_type": "code",
   "execution_count": 15,
   "metadata": {},
   "outputs": [],
   "source": [
    "def train_loop(dataloader, model, loss_fn, optimizer):\n",
    "  \n",
    "  for batch, (X, y) in enumerate(dataloader):\n",
    "    X, y = X.to(device), y.to(device)\n",
    "    pred = model(X)\n",
    "\n",
    "    loss = loss_fn(pred, y)\n",
    "\n",
    "    optimizer.zero_grad()\n",
    "    loss.backward()\n",
    "    optimizer.step()\n",
    "\n",
    "def test_loop(dataloader, model, loss_fn):\n",
    "  size = len(dataloader.dataset)\n",
    "  num_batches = len(dataloader)\n",
    "  test_loss, correct = 0, 0\n",
    "\n",
    "  #evaluating\n",
    "  with torch.no_grad():\n",
    "    for X, y in dataloader:\n",
    "      X, y = X.to(device), y.to(device)\n",
    "      pred = model(X)\n",
    "\n",
    "      test_loss += loss_fn(pred, y).item()\n",
    "      correct += (pred.argmax(1) == y).type(torch.float).sum().item()\n",
    "\n",
    "  test_loss /= num_batches\n",
    "  correct /= size\n",
    "  print(f\"Test Error: \\n Accuracy: {(100*correct):>0.1f}%, Avg loss: {test_loss:>8f} \\n\")\n",
    "  \n",
    "  return 100*correct, test_loss"
   ]
  },
  {
   "cell_type": "code",
   "execution_count": 16,
   "metadata": {},
   "outputs": [
    {
     "name": "stdout",
     "output_type": "stream",
     "text": [
      "Epoch 1\n",
      "-------------------------------\n",
      "Test Error: \n",
      " Accuracy: 46.7%, Avg loss: 1.086089 \n",
      "\n",
      "Epoch 2\n",
      "-------------------------------\n",
      "Test Error: \n",
      " Accuracy: 46.7%, Avg loss: 1.081960 \n",
      "\n",
      "Epoch 3\n",
      "-------------------------------\n",
      "Test Error: \n",
      " Accuracy: 53.3%, Avg loss: 1.078227 \n",
      "\n",
      "Epoch 4\n",
      "-------------------------------\n",
      "Test Error: \n",
      " Accuracy: 60.0%, Avg loss: 1.073988 \n",
      "\n",
      "Epoch 5\n",
      "-------------------------------\n",
      "Test Error: \n",
      " Accuracy: 66.7%, Avg loss: 1.069861 \n",
      "\n",
      "Epoch 6\n",
      "-------------------------------\n",
      "Test Error: \n",
      " Accuracy: 80.0%, Avg loss: 1.065320 \n",
      "\n",
      "Epoch 7\n",
      "-------------------------------\n",
      "Test Error: \n",
      " Accuracy: 80.0%, Avg loss: 1.060679 \n",
      "\n",
      "Epoch 8\n",
      "-------------------------------\n",
      "Test Error: \n",
      " Accuracy: 80.0%, Avg loss: 1.056224 \n",
      "\n",
      "Epoch 9\n",
      "-------------------------------\n",
      "Test Error: \n",
      " Accuracy: 80.0%, Avg loss: 1.051478 \n",
      "\n",
      "Epoch 10\n",
      "-------------------------------\n",
      "Test Error: \n",
      " Accuracy: 80.0%, Avg loss: 1.046364 \n",
      "\n",
      "Epoch 11\n",
      "-------------------------------\n",
      "Test Error: \n",
      " Accuracy: 80.0%, Avg loss: 1.041493 \n",
      "\n",
      "Epoch 12\n",
      "-------------------------------\n",
      "Test Error: \n",
      " Accuracy: 80.0%, Avg loss: 1.036705 \n",
      "\n",
      "Epoch 13\n",
      "-------------------------------\n",
      "Test Error: \n",
      " Accuracy: 80.0%, Avg loss: 1.031288 \n",
      "\n",
      "Epoch 14\n",
      "-------------------------------\n",
      "Test Error: \n",
      " Accuracy: 80.0%, Avg loss: 1.026033 \n",
      "\n",
      "Epoch 15\n",
      "-------------------------------\n",
      "Test Error: \n",
      " Accuracy: 80.0%, Avg loss: 1.020426 \n",
      "\n",
      "Epoch 16\n",
      "-------------------------------\n",
      "Test Error: \n",
      " Accuracy: 80.0%, Avg loss: 1.014380 \n",
      "\n",
      "Epoch 17\n",
      "-------------------------------\n",
      "Test Error: \n",
      " Accuracy: 80.0%, Avg loss: 1.008298 \n",
      "\n",
      "Epoch 18\n",
      "-------------------------------\n",
      "Test Error: \n",
      " Accuracy: 80.0%, Avg loss: 1.001884 \n",
      "\n",
      "Epoch 19\n",
      "-------------------------------\n",
      "Test Error: \n",
      " Accuracy: 80.0%, Avg loss: 0.995106 \n",
      "\n",
      "Epoch 20\n",
      "-------------------------------\n",
      "Test Error: \n",
      " Accuracy: 80.0%, Avg loss: 0.988401 \n",
      "\n",
      "Epoch 21\n",
      "-------------------------------\n",
      "Test Error: \n",
      " Accuracy: 80.0%, Avg loss: 0.981113 \n",
      "\n",
      "Epoch 22\n",
      "-------------------------------\n",
      "Test Error: \n",
      " Accuracy: 80.0%, Avg loss: 0.973575 \n",
      "\n",
      "Epoch 23\n",
      "-------------------------------\n",
      "Test Error: \n",
      " Accuracy: 80.0%, Avg loss: 0.966016 \n",
      "\n",
      "Epoch 24\n",
      "-------------------------------\n",
      "Test Error: \n",
      " Accuracy: 80.0%, Avg loss: 0.958230 \n",
      "\n",
      "Epoch 25\n",
      "-------------------------------\n",
      "Test Error: \n",
      " Accuracy: 80.0%, Avg loss: 0.950092 \n",
      "\n",
      "Epoch 26\n",
      "-------------------------------\n",
      "Test Error: \n",
      " Accuracy: 80.0%, Avg loss: 0.942317 \n",
      "\n",
      "Epoch 27\n",
      "-------------------------------\n",
      "Test Error: \n",
      " Accuracy: 80.0%, Avg loss: 0.933680 \n",
      "\n",
      "Epoch 28\n",
      "-------------------------------\n",
      "Test Error: \n",
      " Accuracy: 80.0%, Avg loss: 0.924880 \n",
      "\n",
      "Epoch 29\n",
      "-------------------------------\n",
      "Test Error: \n",
      " Accuracy: 80.0%, Avg loss: 0.915899 \n",
      "\n",
      "Epoch 30\n",
      "-------------------------------\n",
      "Test Error: \n",
      " Accuracy: 80.0%, Avg loss: 0.906526 \n",
      "\n",
      "Epoch 31\n",
      "-------------------------------\n",
      "Test Error: \n",
      " Accuracy: 80.0%, Avg loss: 0.896726 \n",
      "\n",
      "Epoch 32\n",
      "-------------------------------\n",
      "Test Error: \n",
      " Accuracy: 86.7%, Avg loss: 0.887890 \n",
      "\n",
      "Epoch 33\n",
      "-------------------------------\n",
      "Test Error: \n",
      " Accuracy: 86.7%, Avg loss: 0.878670 \n",
      "\n",
      "Epoch 34\n",
      "-------------------------------\n",
      "Test Error: \n",
      " Accuracy: 86.7%, Avg loss: 0.868476 \n",
      "\n",
      "Epoch 35\n",
      "-------------------------------\n",
      "Test Error: \n",
      " Accuracy: 86.7%, Avg loss: 0.858262 \n",
      "\n",
      "Epoch 36\n",
      "-------------------------------\n",
      "Test Error: \n",
      " Accuracy: 86.7%, Avg loss: 0.847963 \n",
      "\n",
      "Epoch 37\n",
      "-------------------------------\n",
      "Test Error: \n",
      " Accuracy: 86.7%, Avg loss: 0.837467 \n",
      "\n",
      "Epoch 38\n",
      "-------------------------------\n",
      "Test Error: \n",
      " Accuracy: 86.7%, Avg loss: 0.826187 \n",
      "\n",
      "Epoch 39\n",
      "-------------------------------\n",
      "Test Error: \n",
      " Accuracy: 86.7%, Avg loss: 0.814973 \n",
      "\n",
      "Epoch 40\n",
      "-------------------------------\n",
      "Test Error: \n",
      " Accuracy: 86.7%, Avg loss: 0.803868 \n",
      "\n",
      "Epoch 41\n",
      "-------------------------------\n",
      "Test Error: \n",
      " Accuracy: 86.7%, Avg loss: 0.792375 \n",
      "\n",
      "Epoch 42\n",
      "-------------------------------\n",
      "Test Error: \n",
      " Accuracy: 86.7%, Avg loss: 0.780498 \n",
      "\n",
      "Epoch 43\n",
      "-------------------------------\n",
      "Test Error: \n",
      " Accuracy: 80.0%, Avg loss: 0.767956 \n",
      "\n",
      "Epoch 44\n",
      "-------------------------------\n",
      "Test Error: \n",
      " Accuracy: 80.0%, Avg loss: 0.755540 \n",
      "\n",
      "Epoch 45\n",
      "-------------------------------\n",
      "Test Error: \n",
      " Accuracy: 80.0%, Avg loss: 0.743315 \n",
      "\n",
      "Epoch 46\n",
      "-------------------------------\n",
      "Test Error: \n",
      " Accuracy: 86.7%, Avg loss: 0.730305 \n",
      "\n",
      "Epoch 47\n",
      "-------------------------------\n",
      "Test Error: \n",
      " Accuracy: 86.7%, Avg loss: 0.717356 \n",
      "\n",
      "Epoch 48\n",
      "-------------------------------\n",
      "Test Error: \n",
      " Accuracy: 86.7%, Avg loss: 0.704546 \n",
      "\n",
      "Epoch 49\n",
      "-------------------------------\n",
      "Test Error: \n",
      " Accuracy: 86.7%, Avg loss: 0.691420 \n",
      "\n",
      "Epoch 50\n",
      "-------------------------------\n",
      "Test Error: \n",
      " Accuracy: 86.7%, Avg loss: 0.678651 \n",
      "\n",
      "Epoch 51\n",
      "-------------------------------\n",
      "Test Error: \n",
      " Accuracy: 86.7%, Avg loss: 0.665464 \n",
      "\n",
      "Epoch 52\n",
      "-------------------------------\n",
      "Test Error: \n",
      " Accuracy: 93.3%, Avg loss: 0.652162 \n",
      "\n",
      "Epoch 53\n",
      "-------------------------------\n",
      "Test Error: \n",
      " Accuracy: 93.3%, Avg loss: 0.639082 \n",
      "\n",
      "Epoch 54\n",
      "-------------------------------\n",
      "Test Error: \n",
      " Accuracy: 93.3%, Avg loss: 0.626053 \n",
      "\n",
      "Epoch 55\n",
      "-------------------------------\n",
      "Test Error: \n",
      " Accuracy: 93.3%, Avg loss: 0.613195 \n",
      "\n",
      "Epoch 56\n",
      "-------------------------------\n",
      "Test Error: \n",
      " Accuracy: 93.3%, Avg loss: 0.600010 \n",
      "\n",
      "Epoch 57\n",
      "-------------------------------\n",
      "Test Error: \n",
      " Accuracy: 93.3%, Avg loss: 0.587481 \n",
      "\n",
      "Epoch 58\n",
      "-------------------------------\n",
      "Test Error: \n",
      " Accuracy: 93.3%, Avg loss: 0.575288 \n",
      "\n",
      "Epoch 59\n",
      "-------------------------------\n",
      "Test Error: \n",
      " Accuracy: 93.3%, Avg loss: 0.563381 \n",
      "\n",
      "Epoch 60\n",
      "-------------------------------\n",
      "Test Error: \n",
      " Accuracy: 93.3%, Avg loss: 0.551518 \n",
      "\n",
      "Epoch 61\n",
      "-------------------------------\n",
      "Test Error: \n",
      " Accuracy: 93.3%, Avg loss: 0.539718 \n",
      "\n",
      "Epoch 62\n",
      "-------------------------------\n",
      "Test Error: \n",
      " Accuracy: 93.3%, Avg loss: 0.529013 \n",
      "\n",
      "Epoch 63\n",
      "-------------------------------\n",
      "Test Error: \n",
      " Accuracy: 93.3%, Avg loss: 0.517392 \n",
      "\n",
      "Epoch 64\n",
      "-------------------------------\n",
      "Test Error: \n",
      " Accuracy: 93.3%, Avg loss: 0.506315 \n",
      "\n",
      "Epoch 65\n",
      "-------------------------------\n",
      "Test Error: \n",
      " Accuracy: 93.3%, Avg loss: 0.496642 \n",
      "\n",
      "Epoch 66\n",
      "-------------------------------\n",
      "Test Error: \n",
      " Accuracy: 93.3%, Avg loss: 0.486605 \n",
      "\n",
      "Epoch 67\n",
      "-------------------------------\n",
      "Test Error: \n",
      " Accuracy: 93.3%, Avg loss: 0.476691 \n",
      "\n",
      "Epoch 68\n",
      "-------------------------------\n",
      "Test Error: \n",
      " Accuracy: 93.3%, Avg loss: 0.467385 \n",
      "\n",
      "Epoch 69\n",
      "-------------------------------\n",
      "Test Error: \n",
      " Accuracy: 93.3%, Avg loss: 0.457754 \n",
      "\n",
      "Epoch 70\n",
      "-------------------------------\n",
      "Test Error: \n",
      " Accuracy: 93.3%, Avg loss: 0.448244 \n",
      "\n",
      "Epoch 71\n",
      "-------------------------------\n",
      "Test Error: \n",
      " Accuracy: 93.3%, Avg loss: 0.438709 \n",
      "\n",
      "Epoch 72\n",
      "-------------------------------\n",
      "Test Error: \n",
      " Accuracy: 93.3%, Avg loss: 0.430507 \n",
      "\n",
      "Epoch 73\n",
      "-------------------------------\n",
      "Test Error: \n",
      " Accuracy: 93.3%, Avg loss: 0.421839 \n",
      "\n",
      "Epoch 74\n",
      "-------------------------------\n",
      "Test Error: \n",
      " Accuracy: 93.3%, Avg loss: 0.414248 \n",
      "\n",
      "Epoch 75\n",
      "-------------------------------\n",
      "Test Error: \n",
      " Accuracy: 93.3%, Avg loss: 0.407142 \n",
      "\n",
      "Epoch 76\n",
      "-------------------------------\n",
      "Test Error: \n",
      " Accuracy: 93.3%, Avg loss: 0.400129 \n",
      "\n",
      "Epoch 77\n",
      "-------------------------------\n",
      "Test Error: \n",
      " Accuracy: 93.3%, Avg loss: 0.392638 \n",
      "\n",
      "Epoch 78\n",
      "-------------------------------\n",
      "Test Error: \n",
      " Accuracy: 93.3%, Avg loss: 0.385593 \n",
      "\n",
      "Epoch 79\n",
      "-------------------------------\n",
      "Test Error: \n",
      " Accuracy: 93.3%, Avg loss: 0.378810 \n",
      "\n",
      "Epoch 80\n",
      "-------------------------------\n",
      "Test Error: \n",
      " Accuracy: 93.3%, Avg loss: 0.371335 \n",
      "\n",
      "Epoch 81\n",
      "-------------------------------\n",
      "Test Error: \n",
      " Accuracy: 93.3%, Avg loss: 0.365471 \n",
      "\n",
      "Epoch 82\n",
      "-------------------------------\n",
      "Test Error: \n",
      " Accuracy: 93.3%, Avg loss: 0.358857 \n",
      "\n",
      "Epoch 83\n",
      "-------------------------------\n",
      "Test Error: \n",
      " Accuracy: 93.3%, Avg loss: 0.352355 \n",
      "\n",
      "Epoch 84\n",
      "-------------------------------\n",
      "Test Error: \n",
      " Accuracy: 93.3%, Avg loss: 0.346703 \n",
      "\n",
      "Epoch 85\n",
      "-------------------------------\n",
      "Test Error: \n",
      " Accuracy: 93.3%, Avg loss: 0.341783 \n",
      "\n",
      "Epoch 86\n",
      "-------------------------------\n",
      "Test Error: \n",
      " Accuracy: 93.3%, Avg loss: 0.336781 \n",
      "\n",
      "Epoch 87\n",
      "-------------------------------\n",
      "Test Error: \n",
      " Accuracy: 93.3%, Avg loss: 0.331402 \n",
      "\n",
      "Epoch 88\n",
      "-------------------------------\n",
      "Test Error: \n",
      " Accuracy: 93.3%, Avg loss: 0.325108 \n",
      "\n",
      "Epoch 89\n",
      "-------------------------------\n",
      "Test Error: \n",
      " Accuracy: 93.3%, Avg loss: 0.319336 \n",
      "\n",
      "Epoch 90\n",
      "-------------------------------\n",
      "Test Error: \n",
      " Accuracy: 93.3%, Avg loss: 0.315292 \n",
      "\n",
      "Epoch 91\n",
      "-------------------------------\n",
      "Test Error: \n",
      " Accuracy: 93.3%, Avg loss: 0.310638 \n",
      "\n",
      "Epoch 92\n",
      "-------------------------------\n",
      "Test Error: \n",
      " Accuracy: 93.3%, Avg loss: 0.306113 \n",
      "\n",
      "Epoch 93\n",
      "-------------------------------\n",
      "Test Error: \n",
      " Accuracy: 93.3%, Avg loss: 0.302617 \n",
      "\n",
      "Epoch 94\n",
      "-------------------------------\n",
      "Test Error: \n",
      " Accuracy: 93.3%, Avg loss: 0.297948 \n",
      "\n",
      "Epoch 95\n",
      "-------------------------------\n",
      "Test Error: \n",
      " Accuracy: 93.3%, Avg loss: 0.294012 \n",
      "\n",
      "Epoch 96\n",
      "-------------------------------\n",
      "Test Error: \n",
      " Accuracy: 93.3%, Avg loss: 0.289512 \n",
      "\n",
      "Epoch 97\n",
      "-------------------------------\n",
      "Test Error: \n",
      " Accuracy: 93.3%, Avg loss: 0.286255 \n",
      "\n",
      "Epoch 98\n",
      "-------------------------------\n",
      "Test Error: \n",
      " Accuracy: 93.3%, Avg loss: 0.281919 \n",
      "\n",
      "Epoch 99\n",
      "-------------------------------\n",
      "Test Error: \n",
      " Accuracy: 93.3%, Avg loss: 0.277619 \n",
      "\n",
      "Epoch 100\n",
      "-------------------------------\n",
      "Test Error: \n",
      " Accuracy: 93.3%, Avg loss: 0.274211 \n",
      "\n",
      "Done!\n"
     ]
    },
    {
     "data": {
      "text/html": [
       "<style>\n",
       "    table.wandb td:nth-child(1) { padding: 0 10px; text-align: left ; width: auto;} td:nth-child(2) {text-align: left ; width: 100%}\n",
       "    .wandb-row { display: flex; flex-direction: row; flex-wrap: wrap; justify-content: flex-start; width: 100% }\n",
       "    .wandb-col { display: flex; flex-direction: column; flex-basis: 100%; flex: 1; padding: 10px; }\n",
       "    </style>\n",
       "<div class=\"wandb-row\"><div class=\"wandb-col\"><h3>Run history:</h3><br/><table class=\"wandb\"><tr><td>accuracy</td><td>▁▂▆▆▆▆▆▆▆▆▆▆▆▇▇▇▇▆▇▇▇███████████████████</td></tr><tr><td>loss</td><td>██████▇▇▇▇▇▇▆▆▆▆▅▅▅▅▄▄▄▃▃▃▃▃▂▂▂▂▂▂▁▁▁▁▁▁</td></tr></table><br/></div><div class=\"wandb-col\"><h3>Run summary:</h3><br/><table class=\"wandb\"><tr><td>accuracy</td><td>93.33333</td></tr><tr><td>loss</td><td>0.27421</td></tr></table><br/></div></div>"
      ],
      "text/plain": [
       "<IPython.core.display.HTML object>"
      ]
     },
     "metadata": {},
     "output_type": "display_data"
    },
    {
     "data": {
      "text/html": [
       " View run <strong style=\"color:#cdcd00\">iris_run</strong> at: <a href='https://wandb.ai/disim209/DNN-iris_wine/runs/soraut3b' target=\"_blank\">https://wandb.ai/disim209/DNN-iris_wine/runs/soraut3b</a><br/> View project at: <a href='https://wandb.ai/disim209/DNN-iris_wine' target=\"_blank\">https://wandb.ai/disim209/DNN-iris_wine</a><br/>Synced 6 W&B file(s), 0 media file(s), 2 artifact file(s) and 0 other file(s)"
      ],
      "text/plain": [
       "<IPython.core.display.HTML object>"
      ]
     },
     "metadata": {},
     "output_type": "display_data"
    },
    {
     "data": {
      "text/html": [
       "Find logs at: <code>./wandb/run-20240424_233414-soraut3b/logs</code>"
      ],
      "text/plain": [
       "<IPython.core.display.HTML object>"
      ]
     },
     "metadata": {},
     "output_type": "display_data"
    }
   ],
   "source": [
    "loss_fn = nn.CrossEntropyLoss()\n",
    "optimizer = torch.optim.Adam(model.parameters(), lr=learning_rate)\n",
    "accuracies = []\n",
    "\n",
    "for t in range(epochs):\n",
    "    print(f\"Epoch {t+1}\\n-------------------------------\")\n",
    "    train_loop(train_dataloader, model, loss_fn, optimizer)\n",
    "    acc, loss = test_loop(test_dataloader, model, loss_fn)\n",
    "    accuracies.append(acc)\n",
    "    wandb.log({\"accuracy\": acc, \"loss\": loss})\n",
    "print(\"Done!\")\n",
    "wandb.finish()"
   ]
  },
  {
   "cell_type": "code",
   "execution_count": 17,
   "metadata": {},
   "outputs": [
    {
     "data": {
      "image/png": "[encoded data removed]",
      "text/plain": [
       "<Figure size 640x480 with 1 Axes>"
      ]
     },
     "metadata": {},
     "output_type": "display_data"
    }
   ],
   "source": [
    "import matplotlib.pyplot as plt\n",
    "\n",
    "epochs = range(1, len(accuracies) + 1)\n",
    "\n",
    "plt.plot(epochs, accuracies, marker='o')\n",
    "plt.xlabel('Epochs')\n",
    "plt.ylabel('Accuracy')\n",
    "plt.title('Accuracy Over Epochs')\n",
    "plt.grid(True)\n",
    "plt.show()"
   ]
  },
  {
   "cell_type": "markdown",
   "metadata": {},
   "source": [
    "## Example predictions"
   ]
  },
  {
   "cell_type": "code",
   "execution_count": 18,
   "metadata": {},
   "outputs": [
    {
     "name": "stdout",
     "output_type": "stream",
     "text": [
      "tensor([2, 1, 0, 2, 0, 1, 0, 2, 0, 1, 1, 0, 0, 0, 1])\n",
      "tensor([2, 1, 0, 2, 0, 2, 0, 2, 0, 1, 1, 0, 0, 0, 1])\n",
      "____________________\n"
     ]
    }
   ],
   "source": [
    "i = 0\n",
    "\n",
    "for X,y in test_dataloader:\n",
    "  #print('label', y)\n",
    "  print(y)\n",
    "\n",
    "  X, y = X.to(device), y.to(device)\n",
    "\n",
    "  pred = model(X)\n",
    "  pred = pred.argmax(1)\n",
    "  print(pred)\n",
    "  #print('prediction:', pred)\n",
    "  print(\"____________________\")\n",
    "\n",
    "  if i > 3:\n",
    "    break\n",
    "\n",
    "  i += 1"
   ]
  },
  {
   "cell_type": "markdown",
   "metadata": {},
   "source": [
    "## Is the dataset unabalanced?"
   ]
  },
  {
   "cell_type": "code",
   "execution_count": 19,
   "metadata": {},
   "outputs": [
    {
     "data": {
      "image/png": "[encoded data removed]",
      "text/plain": [
       "<Figure size 640x480 with 1 Axes>"
      ]
     },
     "metadata": {},
     "output_type": "display_data"
    }
   ],
   "source": [
    "labels = IrisDataset.get_dataset()[1].to_numpy()\n",
    "\n",
    "#plot histogram\n",
    "plt.hist(labels, bins=7)\n",
    "plt.title('Histogram of flowers Labels')\n",
    "plt.xlabel('Quality')\n",
    "plt.ylabel('Frequency')\n",
    "plt.show()"
   ]
  }
 ],
 "metadata": {
  "kernelspec": {
   "display_name": "ir-experiment",
   "language": "python",
   "name": "python3"
  },
  "language_info": {
   "codemirror_mode": {
    "name": "ipython",
    "version": 3
   },
   "file_extension": ".py",
   "mimetype": "text/x-python",
   "name": "python",
   "nbconvert_exporter": "python",
   "pygments_lexer": "ipython3",
   "version": "3.9.19"
  }
 },
 "nbformat": 4,
 "nbformat_minor": 2
}
