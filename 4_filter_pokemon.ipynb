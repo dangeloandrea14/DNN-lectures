{
 "cells": [
  {
   "cell_type": "code",
   "execution_count": 1,
   "metadata": {},
   "outputs": [],
   "source": [
    "import os\n",
    "import pandas as pd\n",
    "from sklearn.preprocessing import LabelEncoder"
   ]
  },
  {
   "cell_type": "code",
   "execution_count": 2,
   "metadata": {},
   "outputs": [],
   "source": [
    "folder = os.path.join('data','portrait')"
   ]
  },
  {
   "cell_type": "code",
   "execution_count": 3,
   "metadata": {},
   "outputs": [],
   "source": [
    "folders = [f for f in os.listdir(folder) if os.path.isdir(os.path.join(folder, f))]\n",
    "\n",
    "for f in folders:\n",
    "    files = [f for f in os.listdir(os.path.join(folder, f)) if f.endswith('.png')]\n",
    "    for fi in files:\n",
    "        os.rename(os.path.join(folder, f, fi), os.path.join('data','pokemon', 'imgs', f + '_' + fi))"
   ]
  },
  {
   "cell_type": "code",
   "execution_count": 4,
   "metadata": {},
   "outputs": [],
   "source": [
    "from PIL import Image\n",
    "count = 0\n",
    "for img in os.listdir('data/pokemon/imgs'):\n",
    "    img_path = os.path.join('data/pokemon/imgs', img)\n",
    "    with Image.open(img_path) as img:\n",
    "        num_channels = len(img.getbands())\n",
    "        if num_channels != 4:\n",
    "            #remove image\n",
    "            os.remove(img_path)"
   ]
  },
  {
   "cell_type": "code",
   "execution_count": 5,
   "metadata": {},
   "outputs": [],
   "source": [
    "files = [f for f in os.listdir(os.path.join('data','pokemon', 'imgs')) if f.endswith('.png')]\n",
    "files.sort()\n",
    "#remove ^ from file names\n",
    "for fi in files:\n",
    "    os.rename(os.path.join('data','pokemon', 'imgs', fi), os.path.join('data','pokemon', 'imgs', fi.replace('^','')))\n",
    "\n",
    "#remove files with 'special' in the name\n",
    "for fi in files:\n",
    "    if 'Special' in fi:\n",
    "        os.remove(os.path.join('data','pokemon', 'imgs', fi))\n",
    "\n",
    "files = [f for f in os.listdir(os.path.join('data','pokemon', 'imgs')) if f.endswith('.png')]\n",
    "files.sort()\n",
    "df = pd.DataFrame(files, columns=['file'])\n",
    "df['em'] = df['file'].str.replace('.png','')"
   ]
  },
  {
   "cell_type": "code",
   "execution_count": 6,
   "metadata": {},
   "outputs": [],
   "source": [
    "df['em'] = df['em'].str.split('_').str[-1]"
   ]
  },
  {
   "cell_type": "code",
   "execution_count": 7,
   "metadata": {},
   "outputs": [
    {
     "data": {
      "text/html": [
       "<div>\n",
       "<style scoped>\n",
       "    .dataframe tbody tr th:only-of-type {\n",
       "        vertical-align: middle;\n",
       "    }\n",
       "\n",
       "    .dataframe tbody tr th {\n",
       "        vertical-align: top;\n",
       "    }\n",
       "\n",
       "    .dataframe thead th {\n",
       "        text-align: right;\n",
       "    }\n",
       "</style>\n",
       "<table border=\"1\" class=\"dataframe\">\n",
       "  <thead>\n",
       "    <tr style=\"text-align: right;\">\n",
       "      <th></th>\n",
       "      <th>file</th>\n",
       "      <th>em</th>\n",
       "    </tr>\n",
       "  </thead>\n",
       "  <tbody>\n",
       "    <tr>\n",
       "      <th>0</th>\n",
       "      <td>0001_Angry.png</td>\n",
       "      <td>Angry</td>\n",
       "    </tr>\n",
       "    <tr>\n",
       "      <th>1</th>\n",
       "      <td>0001_Crying.png</td>\n",
       "      <td>Crying</td>\n",
       "    </tr>\n",
       "    <tr>\n",
       "      <th>2</th>\n",
       "      <td>0001_Determined.png</td>\n",
       "      <td>Determined</td>\n",
       "    </tr>\n",
       "    <tr>\n",
       "      <th>3</th>\n",
       "      <td>0001_Dizzy.png</td>\n",
       "      <td>Dizzy</td>\n",
       "    </tr>\n",
       "    <tr>\n",
       "      <th>4</th>\n",
       "      <td>0001_Happy.png</td>\n",
       "      <td>Happy</td>\n",
       "    </tr>\n",
       "    <tr>\n",
       "      <th>...</th>\n",
       "      <td>...</td>\n",
       "      <td>...</td>\n",
       "    </tr>\n",
       "    <tr>\n",
       "      <th>10213</th>\n",
       "      <td>1024_Joyous.png</td>\n",
       "      <td>Joyous</td>\n",
       "    </tr>\n",
       "    <tr>\n",
       "      <th>10214</th>\n",
       "      <td>1024_Normal.png</td>\n",
       "      <td>Normal</td>\n",
       "    </tr>\n",
       "    <tr>\n",
       "      <th>10215</th>\n",
       "      <td>1024_Stunned.png</td>\n",
       "      <td>Stunned</td>\n",
       "    </tr>\n",
       "    <tr>\n",
       "      <th>10216</th>\n",
       "      <td>1024_Teary-Eyed.png</td>\n",
       "      <td>Teary-Eyed</td>\n",
       "    </tr>\n",
       "    <tr>\n",
       "      <th>10217</th>\n",
       "      <td>1025_Normal.png</td>\n",
       "      <td>Normal</td>\n",
       "    </tr>\n",
       "  </tbody>\n",
       "</table>\n",
       "<p>10218 rows × 2 columns</p>\n",
       "</div>"
      ],
      "text/plain": [
       "                      file          em\n",
       "0           0001_Angry.png       Angry\n",
       "1          0001_Crying.png      Crying\n",
       "2      0001_Determined.png  Determined\n",
       "3           0001_Dizzy.png       Dizzy\n",
       "4           0001_Happy.png       Happy\n",
       "...                    ...         ...\n",
       "10213      1024_Joyous.png      Joyous\n",
       "10214      1024_Normal.png      Normal\n",
       "10215     1024_Stunned.png     Stunned\n",
       "10216  1024_Teary-Eyed.png  Teary-Eyed\n",
       "10217      1025_Normal.png      Normal\n",
       "\n",
       "[10218 rows x 2 columns]"
      ]
     },
     "execution_count": 7,
     "metadata": {},
     "output_type": "execute_result"
    }
   ],
   "source": [
    "df"
   ]
  },
  {
   "cell_type": "code",
   "execution_count": 8,
   "metadata": {},
   "outputs": [
    {
     "data": {
      "text/html": [
       "<div>\n",
       "<style scoped>\n",
       "    .dataframe tbody tr th:only-of-type {\n",
       "        vertical-align: middle;\n",
       "    }\n",
       "\n",
       "    .dataframe tbody tr th {\n",
       "        vertical-align: top;\n",
       "    }\n",
       "\n",
       "    .dataframe thead th {\n",
       "        text-align: right;\n",
       "    }\n",
       "</style>\n",
       "<table border=\"1\" class=\"dataframe\">\n",
       "  <thead>\n",
       "    <tr style=\"text-align: right;\">\n",
       "      <th></th>\n",
       "      <th>file</th>\n",
       "      <th>em</th>\n",
       "      <th>emotion</th>\n",
       "    </tr>\n",
       "  </thead>\n",
       "  <tbody>\n",
       "    <tr>\n",
       "      <th>0</th>\n",
       "      <td>0001_Angry.png</td>\n",
       "      <td>Angry</td>\n",
       "      <td>0</td>\n",
       "    </tr>\n",
       "    <tr>\n",
       "      <th>1</th>\n",
       "      <td>0001_Crying.png</td>\n",
       "      <td>Crying</td>\n",
       "      <td>1</td>\n",
       "    </tr>\n",
       "    <tr>\n",
       "      <th>2</th>\n",
       "      <td>0001_Determined.png</td>\n",
       "      <td>Determined</td>\n",
       "      <td>2</td>\n",
       "    </tr>\n",
       "    <tr>\n",
       "      <th>3</th>\n",
       "      <td>0001_Dizzy.png</td>\n",
       "      <td>Dizzy</td>\n",
       "      <td>3</td>\n",
       "    </tr>\n",
       "    <tr>\n",
       "      <th>4</th>\n",
       "      <td>0001_Happy.png</td>\n",
       "      <td>Happy</td>\n",
       "      <td>4</td>\n",
       "    </tr>\n",
       "    <tr>\n",
       "      <th>...</th>\n",
       "      <td>...</td>\n",
       "      <td>...</td>\n",
       "      <td>...</td>\n",
       "    </tr>\n",
       "    <tr>\n",
       "      <th>10213</th>\n",
       "      <td>1024_Joyous.png</td>\n",
       "      <td>Joyous</td>\n",
       "      <td>6</td>\n",
       "    </tr>\n",
       "    <tr>\n",
       "      <th>10214</th>\n",
       "      <td>1024_Normal.png</td>\n",
       "      <td>Normal</td>\n",
       "      <td>7</td>\n",
       "    </tr>\n",
       "    <tr>\n",
       "      <th>10215</th>\n",
       "      <td>1024_Stunned.png</td>\n",
       "      <td>Stunned</td>\n",
       "      <td>12</td>\n",
       "    </tr>\n",
       "    <tr>\n",
       "      <th>10216</th>\n",
       "      <td>1024_Teary-Eyed.png</td>\n",
       "      <td>Teary-Eyed</td>\n",
       "      <td>14</td>\n",
       "    </tr>\n",
       "    <tr>\n",
       "      <th>10217</th>\n",
       "      <td>1025_Normal.png</td>\n",
       "      <td>Normal</td>\n",
       "      <td>7</td>\n",
       "    </tr>\n",
       "  </tbody>\n",
       "</table>\n",
       "<p>10218 rows × 3 columns</p>\n",
       "</div>"
      ],
      "text/plain": [
       "                      file          em  emotion\n",
       "0           0001_Angry.png       Angry        0\n",
       "1          0001_Crying.png      Crying        1\n",
       "2      0001_Determined.png  Determined        2\n",
       "3           0001_Dizzy.png       Dizzy        3\n",
       "4           0001_Happy.png       Happy        4\n",
       "...                    ...         ...      ...\n",
       "10213      1024_Joyous.png      Joyous        6\n",
       "10214      1024_Normal.png      Normal        7\n",
       "10215     1024_Stunned.png     Stunned       12\n",
       "10216  1024_Teary-Eyed.png  Teary-Eyed       14\n",
       "10217      1025_Normal.png      Normal        7\n",
       "\n",
       "[10218 rows x 3 columns]"
      ]
     },
     "execution_count": 8,
     "metadata": {},
     "output_type": "execute_result"
    }
   ],
   "source": [
    "label_encoder = LabelEncoder()\n",
    "df['emotion'] = label_encoder.fit_transform(df['em'])\n",
    "df"
   ]
  },
  {
   "cell_type": "code",
   "execution_count": 9,
   "metadata": {},
   "outputs": [],
   "source": [
    "#get only unique values\n",
    "df2 = df.drop_duplicates(subset='emotion', keep='first')\n",
    "df2 = df2.drop(columns=['file'])\n",
    "df2.to_csv(os.path.join('data','pokemon', 'emotion_mapping.csv'), index=False)"
   ]
  },
  {
   "cell_type": "code",
   "execution_count": 10,
   "metadata": {},
   "outputs": [
    {
     "data": {
      "text/plain": [
       "array(['Angry', 'Crying', 'Determined', 'Dizzy', 'Happy', 'Inspired',\n",
       "       'Joyous', 'Normal', 'Pain', 'Sad', 'Shouting', 'Sigh', 'Stunned',\n",
       "       'Surprised', 'Teary-Eyed', 'Worried'], dtype=object)"
      ]
     },
     "execution_count": 10,
     "metadata": {},
     "output_type": "execute_result"
    }
   ],
   "source": [
    "df['em'].unique()"
   ]
  },
  {
   "cell_type": "code",
   "execution_count": 11,
   "metadata": {},
   "outputs": [],
   "source": [
    "df.drop(columns=['em'], inplace=True)\n",
    "df.to_csv(os.path.join('data','pokemon', 'annotations_file.csv'), index=False)"
   ]
  },
  {
   "cell_type": "code",
   "execution_count": 14,
   "metadata": {},
   "outputs": [],
   "source": [
    "from PIL import Image\n",
    "for img in os.listdir('data/pokemon/imgs'):\n",
    "    img_path = os.path.join('data/pokemon/imgs', img)\n",
    "    with Image.open(img_path) as img:\n",
    "        img = img.convert('L')\n",
    "        img.save(os.path.join('data/pokemon/gray_imgs', img_path.split('/')[-1]))"
   ]
  }
 ],
 "metadata": {
  "kernelspec": {
   "display_name": "Python 3",
   "language": "python",
   "name": "python3"
  },
  "language_info": {
   "codemirror_mode": {
    "name": "ipython",
    "version": 3
   },
   "file_extension": ".py",
   "mimetype": "text/x-python",
   "name": "python",
   "nbconvert_exporter": "python",
   "pygments_lexer": "ipython3",
   "version": "3.9.18"
  }
 },
 "nbformat": 4,
 "nbformat_minor": 2
}
