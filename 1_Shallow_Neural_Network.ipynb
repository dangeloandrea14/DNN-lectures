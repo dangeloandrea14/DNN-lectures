{
 "cells": [
  {
   "cell_type": "code",
   "execution_count": 50,
   "metadata": {},
   "outputs": [],
   "source": [
    "import pandas as pd \n",
    "import numpy as np \n",
    "import os\n",
    "import torch\n",
    "from torch import nn"
   ]
  },
  {
   "cell_type": "markdown",
   "metadata": {},
   "source": [
    "# Deep Neural Networks Laboratory"
   ]
  },
  {
   "cell_type": "markdown",
   "metadata": {},
   "source": [
    "## A first, shallow Neural Network"
   ]
  },
  {
   "cell_type": "markdown",
   "metadata": {},
   "source": [
    "To check if the CUDA version of Pytorch was installed successfully, only if your machine supports CUDA, you can do:"
   ]
  },
  {
   "cell_type": "code",
   "execution_count": 51,
   "metadata": {},
   "outputs": [
    {
     "data": {
      "text/plain": [
       "True"
      ]
     },
     "execution_count": 51,
     "metadata": {},
     "output_type": "execute_result"
    }
   ],
   "source": [
    "torch.cuda.is_available()   "
   ]
  },
  {
   "cell_type": "markdown",
   "metadata": {},
   "source": [
    "The input of a neural network will be composed of two tensors: the sample and the label.\n",
    "\n",
    "Imagine we have a classification task with 3 possible labels (0,1,2) and samples of 5 features (5-dimensional samples).\n",
    "\n",
    "We will have tensors like:"
   ]
  },
  {
   "cell_type": "code",
   "execution_count": 52,
   "metadata": {},
   "outputs": [],
   "source": [
    "x = torch.rand(1,5)\n",
    "y = torch.randint(3, (1,)).long()"
   ]
  },
  {
   "cell_type": "code",
   "execution_count": 53,
   "metadata": {},
   "outputs": [
    {
     "data": {
      "text/plain": [
       "tensor([[0.9588, 0.0216, 0.7873, 0.8269, 0.5765]])"
      ]
     },
     "execution_count": 53,
     "metadata": {},
     "output_type": "execute_result"
    }
   ],
   "source": [
    "x"
   ]
  },
  {
   "cell_type": "code",
   "execution_count": 54,
   "metadata": {},
   "outputs": [
    {
     "data": {
      "text/plain": [
       "tensor([2])"
      ]
     },
     "execution_count": 54,
     "metadata": {},
     "output_type": "execute_result"
    }
   ],
   "source": [
    "y"
   ]
  },
  {
   "cell_type": "markdown",
   "metadata": {},
   "source": [
    "Let us define a shallow, very simple Neural Network.\n",
    "\n",
    "The Neural Network will have: \n",
    "1. As many input neurons as sample features (5 in this case)\n",
    "2. An hidden layer \n",
    "3. As many ouput neurons as possible labels (3 in this case)"
   ]
  },
  {
   "cell_type": "markdown",
   "metadata": {},
   "source": [
    "![images/shallow_nn.png](images/shallow_nn.png) "
   ]
  },
  {
   "cell_type": "markdown",
   "metadata": {},
   "source": [
    "This schema entails 4 different operations:\n",
    "1. Matrix multiplication with the weights of the connections from the input layer to the FC Layer\n",
    "2. Activation function in the FC Layer\n",
    "3. Matrix multiplication with the weights of the connections from the FC Layer to the output layer\n",
    "4. Activation function in the output layer"
   ]
  },
  {
   "cell_type": "code",
   "execution_count": 55,
   "metadata": {},
   "outputs": [],
   "source": [
    "from torch import nn"
   ]
  },
  {
   "cell_type": "code",
   "execution_count": 56,
   "metadata": {},
   "outputs": [],
   "source": [
    "class ShallowNeuralNetwork(nn.Module):\n",
    "    def __init__(self, input_size, num_hidden, output_size):\n",
    "        super().__init__()\n",
    "        self.input_size = input_size\n",
    "        self.output_size = output_size\n",
    "        self.fc1 = nn.Linear(input_size, num_hidden)\n",
    "        self.output_layer = nn.Linear(num_hidden, output_size)\n",
    "        self.relu = nn.ReLU()\n",
    "        self.softmax = nn.Softmax(dim=1)\n",
    "\n",
    "    def forward(self, x):\n",
    "        f0 = self.fc1(x)\n",
    "        h0 = self.relu(f0)\n",
    "        o1 = self.output_layer(h0)\n",
    "        y_hat = self.softmax(o1)\n",
    "        return y_hat"
   ]
  },
  {
   "cell_type": "markdown",
   "metadata": {},
   "source": [
    "![images/shallow_nn.png](images/shallow_nn.png) "
   ]
  },
  {
   "cell_type": "markdown",
   "metadata": {},
   "source": [
    "## Step by step computation of a forward pass"
   ]
  },
  {
   "cell_type": "markdown",
   "metadata": {},
   "source": [
    "So, we start with the tensor x."
   ]
  },
  {
   "cell_type": "code",
   "execution_count": 57,
   "metadata": {},
   "outputs": [
    {
     "data": {
      "text/plain": [
       "tensor([[0.9588, 0.0216, 0.7873, 0.8269, 0.5765]])"
      ]
     },
     "execution_count": 57,
     "metadata": {},
     "output_type": "execute_result"
    }
   ],
   "source": [
    "x"
   ]
  },
  {
   "cell_type": "markdown",
   "metadata": {},
   "source": [
    "x goes through the hidden layer. What this means is that we obtain the output:\n",
    "\n",
    "$ Wx + b $ where:\n",
    "1. W is the weight matrix of the connections\n",
    "2. b is the bias vector\n",
    "\n",
    "These values depend on the chosen initialization and might be random at first."
   ]
  },
  {
   "cell_type": "code",
   "execution_count": 58,
   "metadata": {},
   "outputs": [
    {
     "name": "stdout",
     "output_type": "stream",
     "text": [
      "Parameter containing:\n",
      "tensor([[ 0.3557,  0.1669,  0.3688, -0.0225,  0.2863],\n",
      "        [ 0.1758,  0.1700, -0.3691,  0.2275,  0.3567],\n",
      "        [ 0.4320, -0.1515, -0.2495,  0.4450, -0.3763],\n",
      "        [-0.3540, -0.0040,  0.2255,  0.2718, -0.3134],\n",
      "        [-0.0704, -0.0580,  0.0332, -0.0148, -0.4016],\n",
      "        [ 0.0399,  0.1599,  0.0599, -0.2924,  0.0257],\n",
      "        [-0.0979, -0.0152,  0.2841,  0.1063, -0.1893],\n",
      "        [ 0.3256,  0.3841, -0.1064, -0.1068,  0.0494],\n",
      "        [-0.3044,  0.1710,  0.0316, -0.1863,  0.2877],\n",
      "        [ 0.2414,  0.3849,  0.1046,  0.2524, -0.0562]], requires_grad=True)\n",
      "Parameter containing:\n",
      "tensor([ 0.0872, -0.2679,  0.2346, -0.0049,  0.1185,  0.0639,  0.1569,  0.1561,\n",
      "         0.1971,  0.1991], requires_grad=True)\n"
     ]
    }
   ],
   "source": [
    "hidden_layer = nn.Linear(5,10)\n",
    "\n",
    "print( hidden_layer.weight)\n",
    "\n",
    "print( hidden_layer.bias )"
   ]
  },
  {
   "cell_type": "code",
   "execution_count": 59,
   "metadata": {},
   "outputs": [
    {
     "name": "stdout",
     "output_type": "stream",
     "text": [
      "tensor([[ 0.3557,  0.1758,  0.4320, -0.3540, -0.0704,  0.0399, -0.0979,  0.3256,\n",
      "         -0.3044,  0.2414],\n",
      "        [ 0.1669,  0.1700, -0.1515, -0.0040, -0.0580,  0.1599, -0.0152,  0.3841,\n",
      "          0.1710,  0.3849],\n",
      "        [ 0.3688, -0.3691, -0.2495,  0.2255,  0.0332,  0.0599,  0.2841, -0.1064,\n",
      "          0.0316,  0.1046],\n",
      "        [-0.0225,  0.2275,  0.4450,  0.2718, -0.0148, -0.2924,  0.1063, -0.1068,\n",
      "         -0.1863,  0.2524],\n",
      "        [ 0.2863,  0.3567, -0.3763, -0.3134, -0.4016,  0.0257, -0.1893,  0.0494,\n",
      "          0.2877, -0.0562]], grad_fn=<PermuteBackward0>)\n"
     ]
    }
   ],
   "source": [
    "print( hidden_layer.weight.T)"
   ]
  },
  {
   "cell_type": "code",
   "execution_count": 60,
   "metadata": {},
   "outputs": [
    {
     "data": {
      "text/plain": [
       "tensor([[ 0.8685,  0.0075,  0.6002, -0.1228, -0.1678, -0.0743,  0.2652,  0.3329,\n",
       "         -0.0544,  0.6975]], grad_fn=<AddBackward0>)"
      ]
     },
     "execution_count": 60,
     "metadata": {},
     "output_type": "execute_result"
    }
   ],
   "source": [
    "w = hidden_layer.weight\n",
    "b = hidden_layer.bias\n",
    "\n",
    "f0 = torch.matmul(x, w.t()) + b\n",
    "f0"
   ]
  },
  {
   "cell_type": "markdown",
   "metadata": {},
   "source": [
    "If we apply the hidden layer, we obtain the same results:"
   ]
  },
  {
   "cell_type": "code",
   "execution_count": 61,
   "metadata": {},
   "outputs": [
    {
     "data": {
      "text/plain": [
       "tensor([[ 0.8685,  0.0075,  0.6002, -0.1228, -0.1678, -0.0743,  0.2652,  0.3329,\n",
       "         -0.0544,  0.6975]], grad_fn=<AddmmBackward0>)"
      ]
     },
     "execution_count": 61,
     "metadata": {},
     "output_type": "execute_result"
    }
   ],
   "source": [
    "hidden_layer(x)"
   ]
  },
  {
   "cell_type": "markdown",
   "metadata": {},
   "source": [
    "![images/dnn_2.jpeg](images/dnn_2.jpeg) "
   ]
  },
  {
   "cell_type": "markdown",
   "metadata": {},
   "source": [
    "In order to introduce non-linearity into our net, allowing it to learn more complex patterns, we pass the output of the FC layer through the ReLU activation function, which looks like this:\n"
   ]
  },
  {
   "cell_type": "markdown",
   "metadata": {},
   "source": [
    "![images/relu.png](images/relu.png) "
   ]
  },
  {
   "cell_type": "code",
   "execution_count": 62,
   "metadata": {},
   "outputs": [
    {
     "data": {
      "text/plain": [
       "tensor([[ 0.8685,  0.0075,  0.6002, -0.1228, -0.1678, -0.0743,  0.2652,  0.3329,\n",
       "         -0.0544,  0.6975]], grad_fn=<AddBackward0>)"
      ]
     },
     "execution_count": 62,
     "metadata": {},
     "output_type": "execute_result"
    }
   ],
   "source": [
    "f0"
   ]
  },
  {
   "cell_type": "code",
   "execution_count": 63,
   "metadata": {},
   "outputs": [
    {
     "ename": "SyntaxError",
     "evalue": "invalid syntax (815518071.py, line 4)",
     "output_type": "error",
     "traceback": [
      "\u001b[1;36m  Cell \u001b[1;32mIn[63], line 4\u001b[1;36m\u001b[0m\n\u001b[1;33m    output+\u001b[0m\n\u001b[1;37m           ^\u001b[0m\n\u001b[1;31mSyntaxError\u001b[0m\u001b[1;31m:\u001b[0m invalid syntax\n"
     ]
    }
   ],
   "source": [
    "relu = nn.ReLU()\n",
    "\n",
    "output = relu(f0)\n",
    "output+"
   ]
  },
  {
   "cell_type": "code",
   "execution_count": null,
   "metadata": {},
   "outputs": [
    {
     "data": {
      "text/plain": [
       "tensor([[0.0000, 0.0000, 0.0851, 0.0000, 0.0000, 0.0000, 0.0000, 0.1146, 0.0000,\n",
       "         0.3579]], grad_fn=<ReluBackward0>)"
      ]
     },
     "execution_count": 37,
     "metadata": {},
     "output_type": "execute_result"
    }
   ],
   "source": [
    "relu(hidden_layer(x))"
   ]
  },
  {
   "cell_type": "markdown",
   "metadata": {},
   "source": [
    "Now, we go through another round of linear multiplication from the nodes inside the hidden layer to the nodes in the output layer."
   ]
  },
  {
   "cell_type": "code",
   "execution_count": null,
   "metadata": {},
   "outputs": [
    {
     "data": {
      "text/plain": [
       "tensor([[-0.1700,  0.2526, -0.0515]], grad_fn=<AddBackward0>)"
      ]
     },
     "execution_count": 38,
     "metadata": {},
     "output_type": "execute_result"
    }
   ],
   "source": [
    "output_layer = nn.Linear(10,3)\n",
    "\n",
    "weights_2 = output_layer.weight \n",
    "bias_2 = output_layer.bias\n",
    "\n",
    "output = torch.matmul(output, weights_2.t()) + bias_2\n",
    "output"
   ]
  },
  {
   "cell_type": "code",
   "execution_count": null,
   "metadata": {},
   "outputs": [
    {
     "data": {
      "text/plain": [
       "tensor([[-0.1700,  0.2526, -0.0515]], grad_fn=<AddmmBackward0>)"
      ]
     },
     "execution_count": 39,
     "metadata": {},
     "output_type": "execute_result"
    }
   ],
   "source": [
    "output_layer(relu(hidden_layer(x)))"
   ]
  },
  {
   "cell_type": "markdown",
   "metadata": {},
   "source": [
    "We have obtained a tensor of the same size of the output layer, which is the same size of the number of possible labels in our classification task.\n",
    "\n",
    "\n",
    "In order to convert these values to probabilities, we apply the SoftMax activation function."
   ]
  },
  {
   "cell_type": "markdown",
   "metadata": {},
   "source": [
    "![images/softmax.png](images/softmax.png) "
   ]
  },
  {
   "cell_type": "code",
   "execution_count": null,
   "metadata": {},
   "outputs": [
    {
     "data": {
      "text/plain": [
       "tensor([[0.2738, 0.4179, 0.3083]], grad_fn=<SoftmaxBackward0>)"
      ]
     },
     "execution_count": 40,
     "metadata": {},
     "output_type": "execute_result"
    }
   ],
   "source": [
    "softmax = nn.Softmax(dim=1)\n",
    "\n",
    "output = softmax(output)\n",
    "output"
   ]
  },
  {
   "cell_type": "code",
   "execution_count": null,
   "metadata": {},
   "outputs": [
    {
     "data": {
      "text/plain": [
       "tensor([[0.2738, 0.4179, 0.3083]], grad_fn=<SoftmaxBackward0>)"
      ]
     },
     "execution_count": 41,
     "metadata": {},
     "output_type": "execute_result"
    }
   ],
   "source": [
    "softmax(output_layer(relu(hidden_layer(x))))"
   ]
  },
  {
   "cell_type": "markdown",
   "metadata": {},
   "source": [
    "The outputs are the probabilities of the sample being labeled with each one of the labels (0,1,2)."
   ]
  },
  {
   "cell_type": "markdown",
   "metadata": {},
   "source": [
    "We manually implemented a forward pass of the network we defined at the start:"
   ]
  },
  {
   "cell_type": "code",
   "execution_count": 64,
   "metadata": {},
   "outputs": [],
   "source": [
    "class ShallowNeuralNetwork(nn.Module):\n",
    "    def __init__(self, input_size, num_hidden, output_size):\n",
    "        super().__init__()\n",
    "        self.input_size = input_size\n",
    "        self.output_size = output_size\n",
    "        self.fc1 = nn.Linear(input_size, num_hidden)\n",
    "        self.output_layer = nn.Linear(num_hidden, output_size)\n",
    "        self.relu = nn.ReLU()\n",
    "        self.softmax = nn.Softmax(dim=1)\n",
    "\n",
    "    def forward(self, x):\n",
    "        x = self.fc1(x)\n",
    "        x = self.relu(x)\n",
    "        x = self.output_layer(x)\n",
    "        x = self.softmax(x)\n",
    "        return x"
   ]
  },
  {
   "cell_type": "code",
   "execution_count": 65,
   "metadata": {},
   "outputs": [],
   "source": [
    "shallow_nn = ShallowNeuralNetwork(5,10,3)"
   ]
  },
  {
   "cell_type": "markdown",
   "metadata": {},
   "source": [
    "The values might be slightly different due to the randomization of the starting weights:"
   ]
  },
  {
   "cell_type": "code",
   "execution_count": 66,
   "metadata": {},
   "outputs": [
    {
     "data": {
      "text/plain": [
       "tensor([[0.3404, 0.3573, 0.3023]], grad_fn=<SoftmaxBackward0>)"
      ]
     },
     "execution_count": 66,
     "metadata": {},
     "output_type": "execute_result"
    }
   ],
   "source": [
    "shallow_nn(x)"
   ]
  },
  {
   "cell_type": "code",
   "execution_count": 67,
   "metadata": {},
   "outputs": [
    {
     "data": {
      "text/plain": [
       "tensor([[0.3404, 0.3573, 0.3023]], grad_fn=<SoftmaxBackward0>)"
      ]
     },
     "execution_count": 67,
     "metadata": {},
     "output_type": "execute_result"
    }
   ],
   "source": [
    "shallow_nn.forward(x)"
   ]
  }
 ],
 "metadata": {
  "kernelspec": {
   "display_name": "rl23",
   "language": "python",
   "name": "python3"
  },
  "language_info": {
   "codemirror_mode": {
    "name": "ipython",
    "version": 3
   },
   "file_extension": ".py",
   "mimetype": "text/x-python",
   "name": "python",
   "nbconvert_exporter": "python",
   "pygments_lexer": "ipython3",
   "version": "undefined.undefined.undefined"
  }
 },
 "nbformat": 4,
 "nbformat_minor": 2
}
