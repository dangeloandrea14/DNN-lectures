{
 "cells": [
  {
   "cell_type": "code",
   "execution_count": 1,
   "metadata": {},
   "outputs": [],
   "source": [
    "import pandas as pd \n",
    "import numpy as np \n",
    "import os\n",
    "import torch\n",
    "from torch import nn\n",
    "import torch.optim as optim\n",
    "from torch.utils.data import Dataset\n",
    "from torch.utils.data import DataLoader\n",
    "import matplotlib.pyplot as plt\n",
    "import seaborn as sns\n",
    "from sklearn.preprocessing import StandardScaler\n",
    "from sklearn.utils.multiclass import unique_labels\n",
    "from sklearn.metrics import confusion_matrix"
   ]
  },
  {
   "cell_type": "code",
   "execution_count": 2,
   "metadata": {},
   "outputs": [],
   "source": [
    "device = torch.device(\"cuda\" if torch.cuda.is_available() else \"cpu\")"
   ]
  },
  {
   "cell_type": "markdown",
   "metadata": {},
   "source": [
    "# Deep Neural Networks Laboratory"
   ]
  },
  {
   "cell_type": "markdown",
   "metadata": {},
   "source": [
    "## Dataset"
   ]
  },
  {
   "cell_type": "markdown",
   "metadata": {},
   "source": [
    "A Neural Network should always be built considering the dataset at hand.\n",
    "\n",
    "In our case, we will continue our example with the Wine Dataset we built in the previous notebook."
   ]
  },
  {
   "cell_type": "code",
   "execution_count": 3,
   "metadata": {},
   "outputs": [],
   "source": [
    "class GenericDataset(Dataset):\n",
    "    def __init__(self, targets_file, data_file, transform=None, target_transform=None):\n",
    "        self.targets_file = pd.read_csv(targets_file)\n",
    "\n",
    "        scaler = StandardScaler()        \n",
    "        self.data_file = pd.read_csv(data_file)\n",
    "        self.data_file = scaler.fit_transform(self.data_file)\n",
    "        self.data_file = pd.DataFrame(self.data_file)\n",
    "\n",
    "        self.transform = transform\n",
    "        self.target_transform = target_transform\n",
    "\n",
    "    def __len__(self):\n",
    "        return len(self.targets_file)\n",
    "\n",
    "    def __getitem__(self, idx):\n",
    "\n",
    "        \n",
    "        return self.data_file.iloc[idx].to_numpy(dtype=np.float32), self.targets_file.iloc[idx].item()\n",
    "    \n",
    "    def get_dataset(self):\n",
    "        return self.data_file, self.targets_file"
   ]
  },
  {
   "cell_type": "code",
   "execution_count": 4,
   "metadata": {},
   "outputs": [],
   "source": [
    "folder = os.path.join('data', 'wine_quality')"
   ]
  },
  {
   "cell_type": "code",
   "execution_count": 5,
   "metadata": {},
   "outputs": [],
   "source": [
    "WineDataset = GenericDataset(targets_file=os.path.join(folder, 'targets.csv'), data_file=os.path.join(folder, 'data.csv'))"
   ]
  },
  {
   "cell_type": "code",
   "execution_count": 6,
   "metadata": {},
   "outputs": [],
   "source": [
    "train_size = int(0.8 * len(WineDataset))\n",
    "test_size = len(WineDataset) - train_size\n",
    "train_dataset, test_dataset = torch.utils.data.random_split(WineDataset, [train_size, test_size])\n"
   ]
  },
  {
   "cell_type": "code",
   "execution_count": 7,
   "metadata": {},
   "outputs": [],
   "source": [
    "train_dataloader = DataLoader(train_dataset, batch_size=16, shuffle=True)\n",
    "test_dataloader = DataLoader(test_dataset, batch_size=16, shuffle=True)"
   ]
  },
  {
   "cell_type": "code",
   "execution_count": 8,
   "metadata": {},
   "outputs": [
    {
     "data": {
      "text/plain": [
       "[tensor([[-3.9751e-01, -3.6244e-01,  1.4705e-01,  7.2660e-01, -2.2934e-01,\n",
       "           8.3090e-02, -8.3949e-02, -4.8903e-02,  1.9592e-01,  5.8683e-02,\n",
       "           4.2612e-01],\n",
       "         [ 6.5333e-02, -7.2691e-01,  3.5351e-01,  1.8617e+00,  1.9886e-01,\n",
       "           9.8460e-01,  1.3315e+00,  1.0350e+00, -2.0432e+00, -1.0166e+00,\n",
       "          -1.2509e+00],\n",
       "         [-1.1808e-02, -6.6616e-01,  4.9115e-01,  1.8406e+00,  5.6126e-02,\n",
       "           1.0409e+00,  1.3492e+00,  1.0683e+00, -1.4834e+00, -3.4456e-01,\n",
       "          -1.2509e+00],\n",
       "         [-5.5179e-01, -6.6616e-01,  4.9115e-01, -7.4478e-01, -5.7189e-01,\n",
       "           5.9019e-01, -3.1397e-01, -1.5664e+00, -1.7727e-01, -6.8059e-01,\n",
       "           1.1808e+00],\n",
       "         [ 4.5104e-01,  1.8547e+00, -2.1928e+00,  1.1932e-02,  8.5542e-01,\n",
       "          -1.4382e+00, -1.7295e+00,  1.3018e+00,  1.1289e+00,  1.2589e-01,\n",
       "          -7.4777e-01],\n",
       "         [-3.2037e-01, -4.2318e-01, -4.0351e-01,  2.2400e+00, -2.0079e-01,\n",
       "           1.3790e+00,  1.4200e+00,  1.2351e+00, -4.2607e-01, -2.1014e-01,\n",
       "          -9.9931e-01],\n",
       "         [ 1.2224e+00,  1.6421e+00, -1.2294e+00, -6.3968e-01,  3.1304e-01,\n",
       "          -1.1565e+00, -1.3048e+00,  7.3484e-01, -1.7727e-01,  3.9472e-01,\n",
       "          -8.3162e-01],\n",
       "         [-4.7465e-01,  2.8874e+00, -2.0552e+00, -5.7662e-01,  4.5577e-01,\n",
       "          -7.6207e-01, -1.4464e+00,  2.6793e-01,  2.2485e+00,  2.4109e+00,\n",
       "           1.5162e+00],\n",
       "         [-7.8321e-01, -6.6616e-01, -6.0997e-01, -8.9192e-01, -1.0857e+00,\n",
       "          -7.0573e-01,  2.1684e-01, -9.7272e-01, -1.0481e+00, -1.6887e+00,\n",
       "           9.0724e-02],\n",
       "         [-3.9751e-01, -3.0169e-01,  1.1793e+00, -1.5623e-01, -6.2898e-01,\n",
       "           2.5212e-01,  7.1226e-01, -6.5579e-02, -5.5046e-01, -5.4618e-01,\n",
       "          -4.9622e-01],\n",
       "         [-2.4323e-01, -2.4095e-01, -4.7233e-01, -4.5050e-01, -4.2916e-01,\n",
       "          -2.5498e-01,  1.4607e-01, -1.3895e-01, -2.3947e-01, -2.1014e-01,\n",
       "          -9.9931e-01],\n",
       "         [-2.4323e-01, -7.8765e-01,  1.1793e+00, -8.4988e-01, -4.2916e-01,\n",
       "          -8.7476e-01,  8.5381e-01, -6.6589e-01,  1.9592e-01,  6.6354e-01,\n",
       "           4.2612e-01],\n",
       "         [-1.1808e-02, -6.0542e-01, -3.3469e-01,  1.2521e+00, -6.2898e-01,\n",
       "           5.3384e-01,  1.0308e+00,  1.0116e+00, -1.1507e-01, -6.1339e-01,\n",
       "          -1.2509e+00],\n",
       "         [ 2.5338e+00,  1.0347e+00,  2.2116e+00, -6.3968e-01,  1.4549e+00,\n",
       "          -1.3819e+00, -1.7825e+00,  8.6824e-01, -7.9926e-01,  8.6516e-01,\n",
       "           1.0969e+00],\n",
       "         [ 1.2996e+00,  2.0289e-03,  1.4705e-01, -8.0784e-01, -9.6663e-04,\n",
       "          -9.8745e-01,  1.0661e+00, -3.2228e-02, -4.8827e-01, -4.1176e-01,\n",
       "          -6.6392e-01],\n",
       "         [-7.0607e-01, -9.0914e-01, -1.9705e-01,  1.1932e-02, -4.0061e-01,\n",
       "           7.5922e-01,  1.2962e+00, -5.5250e-01, -1.7727e-01, -4.1176e-01,\n",
       "          -1.6082e-01]]),\n",
       " tensor([4, 3, 4, 4, 3, 2, 2, 4, 2, 3, 3, 2, 2, 4, 2, 3])]"
      ]
     },
     "execution_count": 8,
     "metadata": {},
     "output_type": "execute_result"
    }
   ],
   "source": [
    "next(iter(train_dataloader))"
   ]
  },
  {
   "cell_type": "code",
   "execution_count": 9,
   "metadata": {},
   "outputs": [
    {
     "data": {
      "text/html": [
       "<div>\n",
       "<style scoped>\n",
       "    .dataframe tbody tr th:only-of-type {\n",
       "        vertical-align: middle;\n",
       "    }\n",
       "\n",
       "    .dataframe tbody tr th {\n",
       "        vertical-align: top;\n",
       "    }\n",
       "\n",
       "    .dataframe thead th {\n",
       "        text-align: right;\n",
       "    }\n",
       "</style>\n",
       "<table border=\"1\" class=\"dataframe\">\n",
       "  <thead>\n",
       "    <tr style=\"text-align: right;\">\n",
       "      <th></th>\n",
       "      <th>0</th>\n",
       "      <th>1</th>\n",
       "      <th>2</th>\n",
       "      <th>3</th>\n",
       "      <th>4</th>\n",
       "      <th>5</th>\n",
       "      <th>6</th>\n",
       "      <th>7</th>\n",
       "      <th>8</th>\n",
       "      <th>9</th>\n",
       "      <th>10</th>\n",
       "    </tr>\n",
       "  </thead>\n",
       "  <tbody>\n",
       "    <tr>\n",
       "      <th>0</th>\n",
       "      <td>0.142473</td>\n",
       "      <td>2.188833</td>\n",
       "      <td>-2.192833</td>\n",
       "      <td>-0.744778</td>\n",
       "      <td>0.569958</td>\n",
       "      <td>-1.100140</td>\n",
       "      <td>-1.446359</td>\n",
       "      <td>1.034993</td>\n",
       "      <td>1.813090</td>\n",
       "      <td>0.193097</td>\n",
       "      <td>-0.915464</td>\n",
       "    </tr>\n",
       "    <tr>\n",
       "      <th>1</th>\n",
       "      <td>0.451036</td>\n",
       "      <td>3.282235</td>\n",
       "      <td>-2.192833</td>\n",
       "      <td>-0.597640</td>\n",
       "      <td>1.197975</td>\n",
       "      <td>-0.311320</td>\n",
       "      <td>-0.862469</td>\n",
       "      <td>0.701486</td>\n",
       "      <td>-0.115073</td>\n",
       "      <td>0.999579</td>\n",
       "      <td>-0.580068</td>\n",
       "    </tr>\n",
       "    <tr>\n",
       "      <th>2</th>\n",
       "      <td>0.451036</td>\n",
       "      <td>2.553300</td>\n",
       "      <td>-1.917553</td>\n",
       "      <td>-0.660699</td>\n",
       "      <td>1.026697</td>\n",
       "      <td>-0.874763</td>\n",
       "      <td>-1.092486</td>\n",
       "      <td>0.768188</td>\n",
       "      <td>0.258120</td>\n",
       "      <td>0.797958</td>\n",
       "      <td>-0.580068</td>\n",
       "    </tr>\n",
       "    <tr>\n",
       "      <th>3</th>\n",
       "      <td>3.073817</td>\n",
       "      <td>-0.362438</td>\n",
       "      <td>1.661085</td>\n",
       "      <td>-0.744778</td>\n",
       "      <td>0.541412</td>\n",
       "      <td>-0.762074</td>\n",
       "      <td>-0.986324</td>\n",
       "      <td>1.101694</td>\n",
       "      <td>-0.363868</td>\n",
       "      <td>0.327510</td>\n",
       "      <td>-0.580068</td>\n",
       "    </tr>\n",
       "    <tr>\n",
       "      <th>4</th>\n",
       "      <td>0.142473</td>\n",
       "      <td>2.188833</td>\n",
       "      <td>-2.192833</td>\n",
       "      <td>-0.744778</td>\n",
       "      <td>0.569958</td>\n",
       "      <td>-1.100140</td>\n",
       "      <td>-1.446359</td>\n",
       "      <td>1.034993</td>\n",
       "      <td>1.813090</td>\n",
       "      <td>0.193097</td>\n",
       "      <td>-0.915464</td>\n",
       "    </tr>\n",
       "    <tr>\n",
       "      <th>...</th>\n",
       "      <td>...</td>\n",
       "      <td>...</td>\n",
       "      <td>...</td>\n",
       "      <td>...</td>\n",
       "      <td>...</td>\n",
       "      <td>...</td>\n",
       "      <td>...</td>\n",
       "      <td>...</td>\n",
       "      <td>...</td>\n",
       "      <td>...</td>\n",
       "      <td>...</td>\n",
       "    </tr>\n",
       "    <tr>\n",
       "      <th>6492</th>\n",
       "      <td>-0.783214</td>\n",
       "      <td>-0.787650</td>\n",
       "      <td>-0.197054</td>\n",
       "      <td>-0.807837</td>\n",
       "      <td>-0.486252</td>\n",
       "      <td>-0.367664</td>\n",
       "      <td>-0.420128</td>\n",
       "      <td>-1.186161</td>\n",
       "      <td>0.320319</td>\n",
       "      <td>-0.210144</td>\n",
       "      <td>0.593818</td>\n",
       "    </tr>\n",
       "    <tr>\n",
       "      <th>6493</th>\n",
       "      <td>-0.474652</td>\n",
       "      <td>-0.119460</td>\n",
       "      <td>0.284686</td>\n",
       "      <td>0.537425</td>\n",
       "      <td>-0.257883</td>\n",
       "      <td>1.491697</td>\n",
       "      <td>0.924588</td>\n",
       "      <td>0.067824</td>\n",
       "      <td>-0.426067</td>\n",
       "      <td>-0.478971</td>\n",
       "      <td>-0.747766</td>\n",
       "    </tr>\n",
       "    <tr>\n",
       "      <th>6494</th>\n",
       "      <td>-0.551792</td>\n",
       "      <td>-0.605417</td>\n",
       "      <td>-0.885253</td>\n",
       "      <td>-0.891916</td>\n",
       "      <td>-0.429160</td>\n",
       "      <td>-0.029599</td>\n",
       "      <td>-0.083949</td>\n",
       "      <td>-0.719251</td>\n",
       "      <td>-1.421248</td>\n",
       "      <td>-0.478971</td>\n",
       "      <td>-0.915464</td>\n",
       "    </tr>\n",
       "    <tr>\n",
       "      <th>6495</th>\n",
       "      <td>-1.323198</td>\n",
       "      <td>-0.301694</td>\n",
       "      <td>-0.128234</td>\n",
       "      <td>-0.912936</td>\n",
       "      <td>-0.971538</td>\n",
       "      <td>-0.593041</td>\n",
       "      <td>-0.101642</td>\n",
       "      <td>-2.003251</td>\n",
       "      <td>0.755710</td>\n",
       "      <td>-1.016626</td>\n",
       "      <td>1.935402</td>\n",
       "    </tr>\n",
       "    <tr>\n",
       "      <th>6496</th>\n",
       "      <td>-0.937495</td>\n",
       "      <td>-0.787650</td>\n",
       "      <td>0.422326</td>\n",
       "      <td>-0.975995</td>\n",
       "      <td>-1.028631</td>\n",
       "      <td>-0.480353</td>\n",
       "      <td>-0.313966</td>\n",
       "      <td>-1.763127</td>\n",
       "      <td>0.258120</td>\n",
       "      <td>-1.419867</td>\n",
       "      <td>1.096912</td>\n",
       "    </tr>\n",
       "  </tbody>\n",
       "</table>\n",
       "<p>6497 rows × 11 columns</p>\n",
       "</div>"
      ],
      "text/plain": [
       "            0         1         2         3         4         5         6   \\\n",
       "0     0.142473  2.188833 -2.192833 -0.744778  0.569958 -1.100140 -1.446359   \n",
       "1     0.451036  3.282235 -2.192833 -0.597640  1.197975 -0.311320 -0.862469   \n",
       "2     0.451036  2.553300 -1.917553 -0.660699  1.026697 -0.874763 -1.092486   \n",
       "3     3.073817 -0.362438  1.661085 -0.744778  0.541412 -0.762074 -0.986324   \n",
       "4     0.142473  2.188833 -2.192833 -0.744778  0.569958 -1.100140 -1.446359   \n",
       "...        ...       ...       ...       ...       ...       ...       ...   \n",
       "6492 -0.783214 -0.787650 -0.197054 -0.807837 -0.486252 -0.367664 -0.420128   \n",
       "6493 -0.474652 -0.119460  0.284686  0.537425 -0.257883  1.491697  0.924588   \n",
       "6494 -0.551792 -0.605417 -0.885253 -0.891916 -0.429160 -0.029599 -0.083949   \n",
       "6495 -1.323198 -0.301694 -0.128234 -0.912936 -0.971538 -0.593041 -0.101642   \n",
       "6496 -0.937495 -0.787650  0.422326 -0.975995 -1.028631 -0.480353 -0.313966   \n",
       "\n",
       "            7         8         9         10  \n",
       "0     1.034993  1.813090  0.193097 -0.915464  \n",
       "1     0.701486 -0.115073  0.999579 -0.580068  \n",
       "2     0.768188  0.258120  0.797958 -0.580068  \n",
       "3     1.101694 -0.363868  0.327510 -0.580068  \n",
       "4     1.034993  1.813090  0.193097 -0.915464  \n",
       "...        ...       ...       ...       ...  \n",
       "6492 -1.186161  0.320319 -0.210144  0.593818  \n",
       "6493  0.067824 -0.426067 -0.478971 -0.747766  \n",
       "6494 -0.719251 -1.421248 -0.478971 -0.915464  \n",
       "6495 -2.003251  0.755710 -1.016626  1.935402  \n",
       "6496 -1.763127  0.258120 -1.419867  1.096912  \n",
       "\n",
       "[6497 rows x 11 columns]"
      ]
     },
     "execution_count": 9,
     "metadata": {},
     "output_type": "execute_result"
    }
   ],
   "source": [
    "WineDataset.get_dataset()[0]"
   ]
  },
  {
   "cell_type": "markdown",
   "metadata": {},
   "source": [
    "## Neural Network"
   ]
  },
  {
   "cell_type": "markdown",
   "metadata": {},
   "source": [
    "Pytorch is useful to build fully customizable Neural Networks.\n",
    "Keep in mind these three things:\n",
    "\n",
    "1. Our Neural Network will extend the class ```nn.Module```. \n",
    "\n",
    "2. The layers will be initialized inside ```__init__```.\n",
    "\n",
    "3. The operations on the input data are defined in the ```forward``` method."
   ]
  },
  {
   "cell_type": "code",
   "execution_count": 10,
   "metadata": {},
   "outputs": [],
   "source": [
    "learning_rate = 1e-4\n",
    "batch_size = 16\n",
    "epochs = 20"
   ]
  },
  {
   "cell_type": "code",
   "execution_count": 11,
   "metadata": {},
   "outputs": [
    {
     "name": "stderr",
     "output_type": "stream",
     "text": [
      "\u001b[34m\u001b[1mwandb\u001b[0m: Currently logged in as: \u001b[33mdangeloandrea14\u001b[0m (\u001b[33mdisim209\u001b[0m). Use \u001b[1m`wandb login --relogin`\u001b[0m to force relogin\n"
     ]
    },
    {
     "data": {
      "text/html": [
       "Tracking run with wandb version 0.16.6"
      ],
      "text/plain": [
       "<IPython.core.display.HTML object>"
      ]
     },
     "metadata": {},
     "output_type": "display_data"
    },
    {
     "data": {
      "text/html": [
       "Run data is saved locally in <code>c:\\Users\\dange\\Documents\\DNN-lectures\\wandb\\run-20240416_131816-amny2w9i</code>"
      ],
      "text/plain": [
       "<IPython.core.display.HTML object>"
      ]
     },
     "metadata": {},
     "output_type": "display_data"
    },
    {
     "data": {
      "text/html": [
       "Syncing run <strong><a href='https://wandb.ai/disim209/DNN-iris_wine/runs/amny2w9i' target=\"_blank\">wine_run</a></strong> to <a href='https://wandb.ai/disim209/DNN-iris_wine' target=\"_blank\">Weights & Biases</a> (<a href='https://wandb.me/run' target=\"_blank\">docs</a>)<br/>"
      ],
      "text/plain": [
       "<IPython.core.display.HTML object>"
      ]
     },
     "metadata": {},
     "output_type": "display_data"
    },
    {
     "data": {
      "text/html": [
       " View project at <a href='https://wandb.ai/disim209/DNN-iris_wine' target=\"_blank\">https://wandb.ai/disim209/DNN-iris_wine</a>"
      ],
      "text/plain": [
       "<IPython.core.display.HTML object>"
      ]
     },
     "metadata": {},
     "output_type": "display_data"
    },
    {
     "data": {
      "text/html": [
       " View run at <a href='https://wandb.ai/disim209/DNN-iris_wine/runs/amny2w9i' target=\"_blank\">https://wandb.ai/disim209/DNN-iris_wine/runs/amny2w9i</a>"
      ],
      "text/plain": [
       "<IPython.core.display.HTML object>"
      ]
     },
     "metadata": {},
     "output_type": "display_data"
    },
    {
     "data": {
      "text/html": [
       "<button onClick=\"this.nextSibling.style.display='block';this.style.display='none';\">Display W&B run</button><iframe src='https://wandb.ai/disim209/DNN-iris_wine/runs/amny2w9i?jupyter=true' style='border:none;width:100%;height:420px;display:none;'></iframe>"
      ],
      "text/plain": [
       "<wandb.sdk.wandb_run.Run at 0x2d0b21df1c0>"
      ]
     },
     "execution_count": 11,
     "metadata": {},
     "output_type": "execute_result"
    }
   ],
   "source": [
    "import wandb\n",
    "import random\n",
    "\n",
    "os.environ[\"WANDB_NOTEBOOK_NAME\"] = \"3_NeuralNetworks-wine.ipynb\"\n",
    "\n",
    "# start a new wandb run to track this script\n",
    "wandb.init(\n",
    "    # set the wandb project where this run will be logged\n",
    "    project=\"DNN-iris_wine\",\n",
    "    name='wine_run',\n",
    "\n",
    "    # track hyperparameters and run metadata\n",
    "    config={\n",
    "    \"learning_rate\": learning_rate,\n",
    "    \"architecture\": \"CNN\",\n",
    "    \"dataset\": \"WINE\",\n",
    "    \"epochs\": epochs,\n",
    "    }\n",
    ")"
   ]
  },
  {
   "cell_type": "code",
   "execution_count": 12,
   "metadata": {},
   "outputs": [],
   "source": [
    "class FirstNeuralNetwork(nn.Module):\n",
    "    def __init__(self):\n",
    "        super().__init__()\n",
    "        self.fc1 = nn.Linear(11, 40)\n",
    "        self.relu1 = nn.ReLU()\n",
    "        self.fc2 = nn.Linear(40, 50)\n",
    "        self.relu2 = nn.ReLU()\n",
    "        self.fc3 = nn.Linear(50, 20)\n",
    "        self.relu3 = nn.ReLU()\n",
    "        self.output_layer = nn.Linear(20, 7)  \n",
    "\n",
    "    def forward(self, x):\n",
    "        x = self.fc1(x)\n",
    "        x = self.relu1(x)\n",
    "        x = self.fc2(x)\n",
    "        x = self.relu2(x)\n",
    "        x = self.fc3(x)\n",
    "        x = self.relu3(x)\n",
    "        x = self.output_layer(x)\n",
    "        return x"
   ]
  },
  {
   "cell_type": "code",
   "execution_count": 13,
   "metadata": {},
   "outputs": [
    {
     "data": {
      "text/plain": [
       "FirstNeuralNetwork(\n",
       "  (fc1): Linear(in_features=11, out_features=40, bias=True)\n",
       "  (relu1): ReLU()\n",
       "  (fc2): Linear(in_features=40, out_features=50, bias=True)\n",
       "  (relu2): ReLU()\n",
       "  (fc3): Linear(in_features=50, out_features=20, bias=True)\n",
       "  (relu3): ReLU()\n",
       "  (output_layer): Linear(in_features=20, out_features=7, bias=True)\n",
       ")"
      ]
     },
     "execution_count": 13,
     "metadata": {},
     "output_type": "execute_result"
    }
   ],
   "source": [
    "model = FirstNeuralNetwork()\n",
    "model.to(device)"
   ]
  },
  {
   "cell_type": "code",
   "execution_count": 14,
   "metadata": {},
   "outputs": [],
   "source": [
    "def train_loop(dataloader, model, loss_fn, optimizer):\n",
    "  \n",
    "  size = len(dataloader.dataset)\n",
    "  for batch, (X, y) in enumerate(dataloader):\n",
    "    X, y = X.to(device), y.to(device)\n",
    "    pred = model(X)\n",
    "\n",
    "    loss = loss_fn(pred, y)\n",
    "\n",
    "    optimizer.zero_grad()\n",
    "    loss.backward()\n",
    "    optimizer.step()\n",
    "\n",
    "def test_loop(dataloader, model, loss_fn):\n",
    "  size = len(dataloader.dataset)\n",
    "  num_batches = len(dataloader)\n",
    "  test_loss, correct = 0, 0\n",
    "\n",
    "  with torch.no_grad():\n",
    "    for X, y in dataloader:\n",
    "      X, y = X.to(device), y.to(device)\n",
    "      pred = model(X)\n",
    "\n",
    "      test_loss += loss_fn(pred, y).item()\n",
    "      correct += (pred.argmax(1) == y).type(torch.float).sum().item()\n",
    "\n",
    "  test_loss /= num_batches\n",
    "  correct /= size\n",
    "  print(f\"Test Error: \\n Accuracy: {(100*correct):>0.1f}%, Avg loss: {test_loss:>8f} \\n\")\n",
    "  \n",
    "  return 100*correct, test_loss"
   ]
  },
  {
   "cell_type": "code",
   "execution_count": 15,
   "metadata": {},
   "outputs": [],
   "source": [
    "learning_rate = 1e-4\n",
    "batch_size = 16\n",
    "epochs = 20"
   ]
  },
  {
   "cell_type": "code",
   "execution_count": 16,
   "metadata": {},
   "outputs": [
    {
     "name": "stdout",
     "output_type": "stream",
     "text": [
      "Epoch 1\n",
      "-------------------------------\n",
      "Test Error: \n",
      " Accuracy: 31.4%, Avg loss: 1.684860 \n",
      "\n",
      "Epoch 2\n",
      "-------------------------------\n",
      "Test Error: \n",
      " Accuracy: 46.2%, Avg loss: 1.327980 \n",
      "\n",
      "Epoch 3\n",
      "-------------------------------\n",
      "Test Error: \n",
      " Accuracy: 47.7%, Avg loss: 1.264941 \n",
      "\n",
      "Epoch 4\n",
      "-------------------------------\n",
      "Test Error: \n",
      " Accuracy: 48.5%, Avg loss: 1.233824 \n",
      "\n",
      "Epoch 5\n",
      "-------------------------------\n",
      "Test Error: \n",
      " Accuracy: 50.2%, Avg loss: 1.205192 \n",
      "\n",
      "Epoch 6\n",
      "-------------------------------\n",
      "Test Error: \n",
      " Accuracy: 51.8%, Avg loss: 1.184863 \n",
      "\n",
      "Epoch 7\n",
      "-------------------------------\n",
      "Test Error: \n",
      " Accuracy: 54.4%, Avg loss: 1.170060 \n",
      "\n",
      "Epoch 8\n",
      "-------------------------------\n",
      "Test Error: \n",
      " Accuracy: 54.1%, Avg loss: 1.151356 \n",
      "\n",
      "Epoch 9\n",
      "-------------------------------\n",
      "Test Error: \n",
      " Accuracy: 56.0%, Avg loss: 1.140944 \n",
      "\n",
      "Epoch 10\n",
      "-------------------------------\n",
      "Test Error: \n",
      " Accuracy: 55.5%, Avg loss: 1.138496 \n",
      "\n",
      "Epoch 11\n",
      "-------------------------------\n",
      "Test Error: \n",
      " Accuracy: 55.6%, Avg loss: 1.127585 \n",
      "\n",
      "Epoch 12\n",
      "-------------------------------\n",
      "Test Error: \n",
      " Accuracy: 56.1%, Avg loss: 1.124064 \n",
      "\n",
      "Epoch 13\n",
      "-------------------------------\n",
      "Test Error: \n",
      " Accuracy: 56.4%, Avg loss: 1.130788 \n",
      "\n",
      "Epoch 14\n",
      "-------------------------------\n",
      "Test Error: \n",
      " Accuracy: 56.5%, Avg loss: 1.127670 \n",
      "\n",
      "Epoch 15\n",
      "-------------------------------\n",
      "Test Error: \n",
      " Accuracy: 56.6%, Avg loss: 1.112762 \n",
      "\n",
      "Epoch 16\n",
      "-------------------------------\n",
      "Test Error: \n",
      " Accuracy: 56.4%, Avg loss: 1.111176 \n",
      "\n",
      "Epoch 17\n",
      "-------------------------------\n",
      "Test Error: \n",
      " Accuracy: 56.0%, Avg loss: 1.103315 \n",
      "\n",
      "Epoch 18\n",
      "-------------------------------\n",
      "Test Error: \n",
      " Accuracy: 56.3%, Avg loss: 1.101421 \n",
      "\n",
      "Epoch 19\n",
      "-------------------------------\n",
      "Test Error: \n",
      " Accuracy: 56.2%, Avg loss: 1.104437 \n",
      "\n",
      "Epoch 20\n",
      "-------------------------------\n",
      "Test Error: \n",
      " Accuracy: 56.4%, Avg loss: 1.101321 \n",
      "\n",
      "Done!\n"
     ]
    }
   ],
   "source": [
    "loss_fn = nn.CrossEntropyLoss()\n",
    "optimizer = torch.optim.Adam(model.parameters(), lr=learning_rate)\n",
    "accuracies = []\n",
    "\n",
    "for t in range(epochs):\n",
    "    print(f\"Epoch {t+1}\\n-------------------------------\")\n",
    "    train_loop(train_dataloader, model, loss_fn, optimizer)\n",
    "    acc, loss = test_loop(test_dataloader, model, loss_fn)\n",
    "    accuracies.append(acc)\n",
    "    wandb.log({\"accuracy\": acc, \"loss\": loss})\n",
    "print(\"Done!\")"
   ]
  },
  {
   "cell_type": "code",
   "execution_count": 17,
   "metadata": {},
   "outputs": [
    {
     "data": {
      "image/png": "[encoded data removed]",
      "text/plain": [
       "<Figure size 640x480 with 1 Axes>"
      ]
     },
     "metadata": {},
     "output_type": "display_data"
    }
   ],
   "source": [
    "import matplotlib.pyplot as plt\n",
    "\n",
    "epochs = range(1, len(accuracies) + 1)\n",
    "\n",
    "plt.plot(epochs, accuracies, marker='o')\n",
    "plt.xlabel('Epochs')\n",
    "plt.ylabel('Accuracy')\n",
    "plt.title('Accuracy Over Epochs')\n",
    "plt.grid(True)\n",
    "plt.show()"
   ]
  },
  {
   "cell_type": "markdown",
   "metadata": {},
   "source": [
    "## Example predictions"
   ]
  },
  {
   "cell_type": "code",
   "execution_count": 18,
   "metadata": {},
   "outputs": [
    {
     "name": "stdout",
     "output_type": "stream",
     "text": [
      "label tensor([3, 3, 3, 1, 2, 3, 3, 3, 2, 3, 3, 2, 2, 3, 2, 3])\n",
      "prediction: tensor([3, 3, 3, 2, 2, 2, 3, 3, 2, 3, 2, 2, 2, 3, 3, 3], device='cuda:0')\n",
      "____________________\n",
      "label tensor([3, 3, 3, 2, 2, 3, 2, 2, 3, 3, 3, 4, 2, 3, 4, 3])\n",
      "prediction: tensor([3, 2, 3, 3, 2, 3, 2, 3, 3, 3, 3, 4, 2, 4, 3, 3], device='cuda:0')\n",
      "____________________\n",
      "label tensor([4, 2, 3, 2, 3, 1, 3, 2, 4, 2, 5, 2, 0, 2, 4, 2])\n",
      "prediction: tensor([3, 2, 3, 2, 3, 2, 2, 2, 4, 3, 3, 3, 2, 2, 3, 3], device='cuda:0')\n",
      "____________________\n",
      "label tensor([3, 3, 3, 3, 1, 3, 1, 2, 3, 4, 1, 3, 3, 2, 2, 2])\n",
      "prediction: tensor([3, 3, 3, 3, 3, 2, 2, 3, 3, 4, 4, 2, 2, 3, 2, 3], device='cuda:0')\n",
      "____________________\n",
      "label tensor([2, 2, 3, 4, 3, 2, 5, 3, 5, 3, 3, 3, 3, 3, 3, 3])\n",
      "prediction: tensor([2, 3, 3, 4, 3, 3, 2, 3, 4, 3, 2, 3, 2, 3, 3, 3], device='cuda:0')\n",
      "____________________\n"
     ]
    }
   ],
   "source": [
    "i = 0\n",
    "\n",
    "for X,y in test_dataloader:\n",
    "  print('label', y)\n",
    "\n",
    "  X, y = X.to(device), y.to(device)\n",
    "\n",
    "  pred = model(X)\n",
    "  pred = pred.argmax(1)\n",
    "  print('prediction:', pred)\n",
    "  print(\"____________________\")\n",
    "\n",
    "  if i > 3:\n",
    "    break\n",
    "\n",
    "  i += 1"
   ]
  },
  {
   "cell_type": "markdown",
   "metadata": {},
   "source": [
    "## Is the dataset unabalanced?"
   ]
  },
  {
   "cell_type": "code",
   "execution_count": 19,
   "metadata": {},
   "outputs": [
    {
     "data": {
      "image/png": "[encoded data removed]",
      "text/plain": [
       "<Figure size 640x480 with 1 Axes>"
      ]
     },
     "metadata": {},
     "output_type": "display_data"
    }
   ],
   "source": [
    "labels = WineDataset.get_dataset()[1].to_numpy()\n",
    "\n",
    "#plot histogram\n",
    "plt.hist(labels, bins=7)\n",
    "plt.title('Histogram of Wine Quality Labels')\n",
    "plt.xlabel('Quality')\n",
    "plt.ylabel('Frequency')\n",
    "plt.show()"
   ]
  }
 ],
 "metadata": {
  "kernelspec": {
   "display_name": "ir-experiment",
   "language": "python",
   "name": "python3"
  },
  "language_info": {
   "codemirror_mode": {
    "name": "ipython",
    "version": 3
   },
   "file_extension": ".py",
   "mimetype": "text/x-python",
   "name": "python",
   "nbconvert_exporter": "python",
   "pygments_lexer": "ipython3",
   "version": "3.9.18"
  }
 },
 "nbformat": 4,
 "nbformat_minor": 2
}
